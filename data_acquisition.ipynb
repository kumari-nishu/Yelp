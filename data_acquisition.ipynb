{
 "cells": [
  {
   "cell_type": "code",
   "execution_count": 10,
   "metadata": {},
   "outputs": [],
   "source": [
    "import json\n",
    "import pandas as pd\n",
    "\n",
    "from tqdm import tqdm\n",
    "from datetime import datetime, timedelta"
   ]
  },
  {
   "cell_type": "code",
   "execution_count": 11,
   "metadata": {},
   "outputs": [],
   "source": [
    "def get_ratings_data():\n",
    "    # Parsing reviews.json to dataframe\n",
    "    line_count = len(open(\"data/review.json\").readlines())\n",
    "    user_ids, business_ids, stars, dates = [], [], [], []\n",
    "    count = 0;\n",
    "    with open(\"data/review.json\") as f:\n",
    "        for line in tqdm(f, total=line_count):\n",
    "            blob = json.loads(line)\n",
    "            user_ids += [blob[\"user_id\"]]\n",
    "            business_ids += [blob[\"business_id\"]]\n",
    "            stars += [blob[\"stars\"]]\n",
    "            dates += [blob[\"date\"]]\n",
    "\n",
    "    ratings = pd.DataFrame({\"user_id\": user_ids, \n",
    "                            \"business_id\": business_ids, \n",
    "                            \"rating\": stars, \"date\": dates})\n",
    "    user_counts = ratings[\"user_id\"].value_counts()\n",
    "\n",
    "    # Subsetting active users, with more than 5 reviews\n",
    "    active_users = user_counts.loc[user_counts >= 5].index.tolist()   \n",
    "    \n",
    "    return ratings"
   ]
  },
  {
   "cell_type": "code",
   "execution_count": 12,
   "metadata": {},
   "outputs": [],
   "source": [
    "def get_business_data():\n",
    "    # Parsing business.json to dataframe\n",
    "    line_count = len(open('data/business.json').readlines())\n",
    "    business_ids, city, state, stars, review_count, categories, hours = [], [], [], [], [], [], []\n",
    "\n",
    "    with open('data/business.json') as f:\n",
    "        for line in tqdm(f, total=line_count):\n",
    "            blob = json.loads(line)\n",
    "            business_ids += [blob[\"business_id\"]]\n",
    "            city += [blob[\"city\"]]\n",
    "            state += [blob[\"state\"]]\n",
    "            stars += [blob[\"stars\"]]\n",
    "            review_count += [blob[\"review_count\"]]\n",
    "            if blob[\"categories\"] is None:\n",
    "                categories += ['None']\n",
    "            else:\n",
    "                categories += [blob[\"categories\"].split(', ')]\n",
    "            hours += [blob[\"hours\"]]\n",
    "\n",
    "    business = pd.DataFrame({\"business_id\": business_ids, \n",
    "                             \"stars\": stars, \n",
    "                             \"review_count\": review_count, \n",
    "                             \"categories\": categories, \n",
    "                             \"hours\": hours})\n",
    "    \n",
    "    return business"
   ]
  },
  {
   "cell_type": "code",
   "execution_count": 13,
   "metadata": {},
   "outputs": [],
   "source": [
    "def get_checkin_data():\n",
    "    # Parsing checkin.json to dataframe\n",
    "    line_count = len(open('data/checkin.json').readlines())\n",
    "    business_ids, dates = [], []\n",
    "\n",
    "    with open('data/checkin.json') as f:\n",
    "        for line in tqdm(f, total=line_count):\n",
    "            blob = json.loads(line)\n",
    "            business_ids += [blob[\"business_id\"]]\n",
    "            dates += [blob[\"date\"]]\n",
    "\n",
    "    checkin = pd.DataFrame({\"business_id\": business_ids, \n",
    "                            \"date\": dates})\n",
    "    \n",
    "    return checkin"
   ]
  },
  {
   "cell_type": "code",
   "execution_count": 14,
   "metadata": {},
   "outputs": [],
   "source": [
    "def get_user_data():    \n",
    "    # Parsing user.json to dataframe\n",
    "    line_count = len(open('data/user.json').readlines())\n",
    "\n",
    "    user_ids, review_counts, yelping_since, friends, fans, elite, average_stars = [], [], [], [], [], [], []\n",
    "    compliment_hot, compliment_more, compliment_profile, compliment_cute =  [], [], [], []\n",
    "    compliment_list, compliment_note, compliment_plain, compliment_cool = [], [], [], []\n",
    "    compliment_funny, compliment_writer, compliment_photos = [], [], []\n",
    "\n",
    "    with open('data/user.json') as f:\n",
    "        for line in tqdm(f, total=line_count):\n",
    "            blob = json.loads(line)\n",
    "            user_ids+= [blob[\"user_id\"]]\n",
    "            review_counts+= [blob[\"review_count\"]]\n",
    "            yelping_since += [blob[\"yelping_since\"]]\n",
    "            friends+=[blob[\"friends\"]]\n",
    "            fans+=[blob['fans']]\n",
    "            elite+=[blob[\"elite\"]]\n",
    "            average_stars += [blob[\"average_stars\"]]\n",
    "            compliment_hot += [blob[\"compliment_hot\"]]\n",
    "            compliment_more += [blob[\"compliment_more\"]]\n",
    "            compliment_profile += [blob[\"compliment_profile\"]]\n",
    "            compliment_cute += [blob[\"compliment_cute\"]]\n",
    "            compliment_list += [blob[\"compliment_list\"]]\n",
    "            compliment_note += [blob[\"compliment_note\"]]\n",
    "            compliment_plain += [blob[\"compliment_plain\"]]\n",
    "            compliment_cool += [blob[\"compliment_cool\"]]\n",
    "            compliment_funny += [blob[\"compliment_funny\"]]\n",
    "            compliment_writer += [blob[\"compliment_writer\"]]\n",
    "            compliment_photos += [blob[\"compliment_photos\"]]\n",
    "\n",
    "    user = pd.DataFrame({\"user_id\": user_ids, \n",
    "                         \"review_count\": review_counts, \n",
    "                         \"yelping_since\": yelping_since, \n",
    "                         \"friends\" : friends,\n",
    "                         \"fans\" : fans, \n",
    "                         \"elite\" : elite,\n",
    "                         \"average_stars\" : average_stars,\n",
    "                         \"compliment_hot\" : compliment_hot,\n",
    "                         \"compliment_more\" : compliment_more,\n",
    "                         \"compliment_profile\" : compliment_profile,\n",
    "                         \"compliment_cute\" : compliment_cute,\n",
    "                         \"compliment_list\" : compliment_list,\n",
    "                         \"compliment_note\" : compliment_note,\n",
    "                         \"compliment_plain\" : compliment_plain,\n",
    "                         \"compliment_cool\" : compliment_cool,\n",
    "                         \"compliment_funny\" : compliment_funny,\n",
    "                         \"compliment_writer\" : compliment_writer,\n",
    "                         \"compliment_photos\" : compliment_photos})\n",
    "\n",
    "    # Subsetting active users, with more than 5 reviews\n",
    "    user = user[user.review_count >= 5]\n",
    "\n",
    "    return user"
   ]
  },
  {
   "cell_type": "code",
   "execution_count": 15,
   "metadata": {},
   "outputs": [],
   "source": [
    "def get_tips_data():\n",
    "    # Parsing tips.json to dataframe\n",
    "    line_count = len(open('data/tip.json').readlines())\n",
    "    user_ids, compliment_counts= [], []\n",
    "\n",
    "    with open('data/tip.json') as f:\n",
    "        for line in tqdm(f, total=line_count):\n",
    "            blob = json.loads(line)\n",
    "            user_ids += [blob[\"user_id\"]]\n",
    "            compliment_counts += [blob[\"compliment_count\"]]\n",
    "\n",
    "    tips = pd.DataFrame({\"user_id\": user_ids, \n",
    "                         \"compliment_count\": compliment_counts})\n",
    "    \n",
    "    return tips"
   ]
  }
 ],
 "metadata": {
  "kernelspec": {
   "display_name": "Python 3",
   "language": "python",
   "name": "python3"
  },
  "language_info": {
   "codemirror_mode": {
    "name": "ipython",
    "version": 3
   },
   "file_extension": ".py",
   "mimetype": "text/x-python",
   "name": "python",
   "nbconvert_exporter": "python",
   "pygments_lexer": "ipython3",
   "version": "3.7.3"
  },
  "varInspector": {
   "cols": {
    "lenName": 16,
    "lenType": 16,
    "lenVar": 40
   },
   "kernels_config": {
    "python": {
     "delete_cmd_postfix": "",
     "delete_cmd_prefix": "del ",
     "library": "var_list.py",
     "varRefreshCmd": "print(var_dic_list())"
    },
    "r": {
     "delete_cmd_postfix": ") ",
     "delete_cmd_prefix": "rm(",
     "library": "var_list.r",
     "varRefreshCmd": "cat(var_dic_list()) "
    }
   },
   "types_to_exclude": [
    "module",
    "function",
    "builtin_function_or_method",
    "instance",
    "_Feature"
   ],
   "window_display": false
  }
 },
 "nbformat": 4,
 "nbformat_minor": 2
}
