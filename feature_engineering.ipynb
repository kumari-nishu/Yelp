{
 "cells": [
  {
   "cell_type": "code",
   "execution_count": 131,
   "metadata": {},
   "outputs": [],
   "source": [
    "import json\n",
    "import pickle\n",
    "import numpy as np\n",
    "import pandas as pd\n",
    "\n",
    "from tqdm import tqdm\n",
    "from collections import Counter\n",
    "from datetime import datetime, timedelta\n",
    "\n",
    "import import_ipynb\n",
    "import data_acquisition\n",
    "\n",
    "from sklearn import preprocessing\n",
    "from sklearn.preprocessing import MultiLabelBinarizer"
   ]
  },
  {
   "cell_type": "code",
   "execution_count": 132,
   "metadata": {},
   "outputs": [],
   "source": [
    "def get_yelp_data():\n",
    "    ratings = data_acquisition.get_ratings_data()\n",
    "    business = data_acquisition.get_business_data()\n",
    "    checkin = data_acquisition.get_checkin_data()\n",
    "    user = data_acquisition.get_user_data()\n",
    "    tips = data_acquisition.get_tips_data()\n",
    "    \n",
    "    return ratings, business, checkin, user, tips"
   ]
  },
  {
   "cell_type": "code",
   "execution_count": 61,
   "metadata": {},
   "outputs": [
    {
     "name": "stderr",
     "output_type": "stream",
     "text": [
      "100%|██████████| 6685900/6685900 [01:34<00:00, 70491.84it/s]\n",
      "100%|██████████| 192609/192609 [00:06<00:00, 30890.00it/s]\n",
      "100%|██████████| 161950/161950 [00:02<00:00, 57482.32it/s]\n",
      "100%|██████████| 1637138/1637138 [00:42<00:00, 38081.65it/s]\n",
      "100%|██████████| 1223094/1223094 [00:10<00:00, 117718.85it/s]\n"
     ]
    }
   ],
   "source": [
    "ratings, business, checkin, user, tips = get_yelp_data()"
   ]
  },
  {
   "cell_type": "code",
   "execution_count": 193,
   "metadata": {},
   "outputs": [],
   "source": [
    "def add_user_features(user, ratings, tips):\n",
    "    # for each user, date of last review and total tips provided\n",
    "    last_user_review = ratings.groupby(['user_id'], sort = False)['date'].max().reset_index()\n",
    "    user_tips_count = tips.groupby(['user_id'], sort = False)['compliment_count'].sum().reset_index()\n",
    "\n",
    "    user = user.replace('',np.nan)\n",
    "\n",
    "    # Create a minimum and maximum processor object\n",
    "    min_max_scaler = preprocessing.MinMaxScaler()    \n",
    "\n",
    "    #1. Normalizing reviews    \n",
    "    review_norm_mdl = min_max_scaler.fit(user[['review_count']])\n",
    "    user['review_count_norm'] = pd.DataFrame(review_norm_mdl.transform(user[['review_count']])) \n",
    "\n",
    "    #2. Compliments per review_cnt index\n",
    "    for col in user.columns[6:17] :\n",
    "        user[col] = user[col]/user['review_count']\n",
    "\n",
    "    #3. Friends\n",
    "    user['friends'] = user['friends'].apply(lambda x : len(x.split(','))) \n",
    "    friends_norm_mdl = min_max_scaler.fit(user[['friends']])\n",
    "    user['friends_norm'] = pd.DataFrame(friends_norm_mdl.transform(user[['friends']])) \n",
    "\n",
    "    #4. Total Elite Years\n",
    "    def elite_cnt(x):\n",
    "        y = str(x).split(',')\n",
    "        if y[0] == 'nan':\n",
    "            cnt = 0\n",
    "        else:\n",
    "            cnt = len(y)  \n",
    "        return cnt, y\n",
    "\n",
    "    user['elite_intm'] = user['elite'].apply(lambda x : elite_cnt(x))\n",
    "    user['elite_cnt'] = [x[0] for x in user['elite_intm']]\n",
    "    user['elite_year'] = [x[1] for x in user['elite_intm']]\n",
    "\n",
    "    mlb = MultiLabelBinarizer()\n",
    "    elite = pd.DataFrame(mlb.fit_transform(user.pop('elite_year')),\n",
    "                         columns = 'elite_' + mlb.classes_, index = user.index)\n",
    "    user = pd.concat([user, elite], axis = 1)\n",
    "    user.drop(['elite_nan'], axis=1, inplace=True)\n",
    "\n",
    "    #5. Yelping since #days\n",
    "    user['yelping_since'] = (pd.to_datetime(user['yelping_since'])).dt.normalize()\n",
    "    user = user.merge(last_user_review, on = 'user_id', how = 'left')\n",
    "    user['date'] = pd.to_datetime(user['date'], errors = 'ignore', format = '%Y-%m-%d %H:%M:%S')\n",
    "    user['user_lifetime'] = (user['date'] - user['yelping_since']).apply(lambda x: x.days)\n",
    "\n",
    "    #6. Tip count\n",
    "    user = user.merge(user_tips_count, on = 'user_id', how = 'left')\n",
    "    user['compliment_count'] = user['compliment_count']/user['review_count']\n",
    "\n",
    "    #7. Fans\n",
    "    fans_norm_mdl = min_max_scaler.fit(user[['fans']])\n",
    "    user['fans_norm'] = pd.DataFrame(fans_norm_mdl.transform(user[['fans']])) \n",
    "\n",
    "    # Subsetting the user features\n",
    "    user.drop(['review_count','friends','fans','yelping_since','elite','elite_intm','date'], axis=1, inplace=True)\n",
    "    \n",
    "    user.to_pickle(\"data/user_feature_set.pkl\")\n",
    "    return user"
   ]
  },
  {
   "cell_type": "code",
   "execution_count": 11,
   "metadata": {},
   "outputs": [],
   "source": [
    "def add_item_features(business, checkin):\n",
    "    all_categories = []\n",
    "    business['hours'] = business['hours'].apply(lambda x: ' '.join(' '.join(str(x).split(', ')).split(': ')).split())\n",
    "\n",
    "    for i in tqdm(range(len(business))):\n",
    "        all_categories.extend(business.loc[i, 'categories'])\n",
    "\n",
    "        if business.loc[i, 'hours'] == ['None'] or []:\n",
    "            business.loc[i, 'total_hours'] = 0\n",
    "        else:\n",
    "            open_hours = business.loc[i, 'hours'][1::2]\n",
    "            open_hours[-1] = open_hours[-1][:-1]\n",
    "            open_hours = [x[1:len(x)-1].split('-') for x in open_hours]\n",
    "            total_hours = 0\n",
    "\n",
    "            for j in range(len(open_hours)):\n",
    "                delta = datetime.strptime(open_hours[j][1], '%H:%M') - datetime.strptime(open_hours[j][0], '%H:%M')\n",
    "                if delta <= timedelta(days = -1, hours = 23):\n",
    "                    delta = delta - timedelta(days=-1)\n",
    "\n",
    "                delta = delta.seconds//3600\n",
    "                total_hours = total_hours + delta\n",
    "            business.loc[i, 'total_hours'] = total_hours\n",
    "\n",
    "    top50_categories = Counter(all_categories).most_common(50)\n",
    "    category_name = [category for category, count in top50_categories]\n",
    "\n",
    "    business['str_categories'] = business['categories'].apply(lambda x : str(x))\n",
    "\n",
    "    for category in tqdm(category_name):\n",
    "        category_presence = [category_list for category_list in business['categories'] if category in category_list]\n",
    "        category_features = pd.DataFrame(0, index = range(0, len(category_presence)), columns = [category,'presence'])\n",
    "        for i in range(len(category_presence)):\n",
    "            category_features.loc[i, category] = str(category_presence[i])\n",
    "            category_features.loc[i, 'presence'] = 1\n",
    "\n",
    "        category_features = category_features.rename(columns={category: \"str_categories\"})\n",
    "        category_features['str_categories'] = category_features['str_categories'].apply(lambda x : str(x))    \n",
    "        category_features = category_features.drop_duplicates()\n",
    "\n",
    "        business = business.merge(category_features, how = \"left\", on = \"str_categories\")\n",
    "        business = business.rename(columns={\"presence\": category})\n",
    "\n",
    "    business.drop(['categories', 'hours', 'str_categories'], axis = 1, inplace = True)\n",
    "\n",
    "    checkin['total_checkins'] = checkin['date'].apply(lambda x: len(str(x).split(', ')))\n",
    "    checkin['last_checkin'] = checkin['date'].apply(lambda x: max(str(x).split(', ')))\n",
    "    checkin['first_checkin'] = checkin['date'].apply(lambda x: min(str(x).split(', ')))\n",
    "\n",
    "    last_checkin = pd.to_datetime(checkin['last_checkin'], format = '%Y-%m-%d %H:%M:%S')\n",
    "    first_checkin = pd.to_datetime(checkin['first_checkin'], format = '%Y-%m-%d %H:%M:%S')\n",
    "\n",
    "    checkin['age_of_business'] = (last_checkin - first_checkin).apply(lambda x: x.days)\n",
    "    checkin.drop(['date', 'first_checkin', 'last_checkin'], axis = 1, inplace = True)\n",
    "\n",
    "    business = business.merge(checkin, how = \"left\", on = \"business_id\")\n",
    "    \n",
    "    business.to_pickle(\"data/business_feature_set.pkl\")\n",
    "    return business"
   ]
  },
  {
   "cell_type": "code",
   "execution_count": 14,
   "metadata": {},
   "outputs": [],
   "source": [
    "def sample_ratings_data(ratings):\n",
    "    active_users = pickle.load(open(\"data/active_users_list.pkl\", \"rb\"))\n",
    "    active_users = active_users[0].values.tolist()\n",
    "\n",
    "    ratings_subset = ratings[ratings.user_id.isin(active_users)]\n",
    "    ratings_subset = ratings_subset[0:10000]\n",
    "\n",
    "    holdout_set = ratings_subset.sort_values(by = ['date'], ascending = False).groupby('user_id').first().reset_index()\n",
    "    holdout_reviews = holdout_set['review_id'].values.tolist()\n",
    "\n",
    "    train_set = ratings_subset[~ratings_subset.review_id.isin(holdout_reviews)]\n",
    "    test_set = holdout_set\n",
    "\n",
    "    return train_set, test_set"
   ]
  },
  {
   "cell_type": "code",
   "execution_count": 194,
   "metadata": {},
   "outputs": [],
   "source": [
    "# function calls\n",
    "\n",
    "# user = add_user_features(user, ratings, tips)\n",
    "# business = add_item_features(business, checkin)\n",
    "# ratings_train, ratings_test = sample_ratings_data(ratings)"
   ]
  }
 ],
 "metadata": {
  "kernelspec": {
   "display_name": "Python 3",
   "language": "python",
   "name": "python3"
  },
  "language_info": {
   "codemirror_mode": {
    "name": "ipython",
    "version": 3
   },
   "file_extension": ".py",
   "mimetype": "text/x-python",
   "name": "python",
   "nbconvert_exporter": "python",
   "pygments_lexer": "ipython3",
   "version": "3.7.3"
  },
  "varInspector": {
   "cols": {
    "lenName": 16,
    "lenType": 16,
    "lenVar": 40
   },
   "kernels_config": {
    "python": {
     "delete_cmd_postfix": "",
     "delete_cmd_prefix": "del ",
     "library": "var_list.py",
     "varRefreshCmd": "print(var_dic_list())"
    },
    "r": {
     "delete_cmd_postfix": ") ",
     "delete_cmd_prefix": "rm(",
     "library": "var_list.r",
     "varRefreshCmd": "cat(var_dic_list()) "
    }
   },
   "oldHeight": 197,
   "position": {
    "height": "249px",
    "left": "1027px",
    "right": "20px",
    "top": "24px",
    "width": "477px"
   },
   "types_to_exclude": [
    "module",
    "function",
    "builtin_function_or_method",
    "instance",
    "_Feature"
   ],
   "varInspector_section_display": "block",
   "window_display": true
  }
 },
 "nbformat": 4,
 "nbformat_minor": 2
}
