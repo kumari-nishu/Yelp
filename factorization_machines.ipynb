{
 "cells": [
  {
   "cell_type": "markdown",
   "metadata": {},
   "source": [
    "### Factorization Machines using LightFM"
   ]
  },
  {
   "cell_type": "code",
   "execution_count": 74,
   "metadata": {
    "scrolled": true
   },
   "outputs": [],
   "source": [
    "import json\n",
    "import pandas as pd\n",
    "import numpy as np\n",
    "from tqdm import tqdm\n",
    "\n",
    "import pickle\n",
    "import scipy.sparse as sp\n",
    "\n",
    "import import_ipynb\n",
    "import data_acquisition\n",
    "import feature_engineering\n",
    "\n",
    "from lightfm.data import Dataset\n",
    "from lightfm import LightFM\n",
    "from lightfm.evaluation import precision_at_k\n",
    "from lightfm.evaluation import recall_at_k\n",
    "from lightfm.evaluation import auc_score\n",
    "from scipy.sparse.coo import coo_matrix\n",
    "from matplotlib import pyplot as plt\n"
   ]
  },
  {
   "cell_type": "markdown",
   "metadata": {},
   "source": [
    "#### 1. Reading Data"
   ]
  },
  {
   "cell_type": "code",
   "execution_count": 100,
   "metadata": {
    "scrolled": false
   },
   "outputs": [],
   "source": [
    "# fetch data objects from saved pickle files\n",
    "ratings_train = pickle.load(open(\"data/ratings_train_5_years.pkl\", \"rb\"))\n",
    "ratings_test = pickle.load(open(\"data/ratings_test_5_years.pkl\", \"rb\"))\n",
    "ratings_valid = pickle.load(open(\"data/ratings_validation_5_years.pkl\", \"rb\"))\n",
    "\n",
    "business_df = pickle.load(open(\"data/business_feature_set.pkl\", \"rb\"))\n",
    "user_df = pickle.load(open(\"data/user_feature_set.pkl\", \"rb\"))\n",
    "\n",
    "recommendation_df = pickle.load(open(\"data/ratings_recommendation_list.pkl\", \"rb\"))\n",
    "\n",
    "# formatting dataframe\n",
    "ratings_train = ratings_train[['user_id', 'business_id', 'rating']]\n",
    "ratings_test = ratings_test[['user_id', 'business_id', 'rating']]\n",
    "user_df = user_df.fillna(0)\n",
    "business_df = business_df.fillna(0)"
   ]
  },
  {
   "cell_type": "code",
   "execution_count": 104,
   "metadata": {
    "scrolled": true
   },
   "outputs": [
    {
     "name": "stdout",
     "output_type": "stream",
     "text": [
      "Users Count  (284023, 33)\n",
      "Business Count  (23793, 31)\n",
      "Ratings Train Count  (267777, 3)\n",
      "Ratings Test Count  (31710, 3)\n",
      "Ratings Validation Count  (63420, 29)\n",
      "Ratings Recommendation Pairs  (1745448, 2)\n"
     ]
    }
   ],
   "source": [
    "print(\"Users Count \", user_df.shape)\n",
    "print(\"Business Count \", business_df.shape)\n",
    "print(\"Ratings Train Count \", ratings_train.shape)\n",
    "print(\"Ratings Test Count \", ratings_test.shape)\n",
    "print(\"Ratings Validation Count \", ratings_valid.shape)\n",
    "print(\"Ratings Recommendation Pairs \", recommendation_df.shape)\n"
   ]
  },
  {
   "cell_type": "markdown",
   "metadata": {},
   "source": [
    "#### 2. Preprocessing Data"
   ]
  },
  {
   "cell_type": "code",
   "execution_count": 4,
   "metadata": {},
   "outputs": [],
   "source": [
    "def convert_df_to_tupleList(key_col, df):\n",
    "    result = []\n",
    "    for i,row in df.iterrows():\n",
    "        key_val = row[key_col]\n",
    "        feature_dict = {}\n",
    "        for col in df.columns.values:\n",
    "            if col!=key_col:\n",
    "                feature_dict[col] = row[col]\n",
    "        result.append((key_val, feature_dict))\n",
    "    return result\n",
    "\n",
    "def convert_ratings_to_tupleList(df, user_id, business_id, weight_id):\n",
    "    result = []\n",
    "    for i,row in df.iterrows():\n",
    "        row_tuple = (row[user_id], row[business_id], row[weight_id])\n",
    "        result.append(row_tuple)\n",
    "    return result"
   ]
  },
  {
   "cell_type": "code",
   "execution_count": 5,
   "metadata": {},
   "outputs": [],
   "source": [
    "users_map = None\n",
    "business_map = None\n",
    "def convert_to_fm_format(interaction_features, user_features, business_features):\n",
    "    global users_map, business_map\n",
    "    global users_map, business_map\n",
    "    dataset = Dataset(user_identity_features=False, item_identity_features=False)\n",
    "    \n",
    "    # interaction matrix\n",
    "    user_features_list = list(user_features[0][1].keys())\n",
    "    business_features_list = list(business_features[0][1].keys())\n",
    "    \n",
    "    uid_list = (x[0] for x in user_features)\n",
    "    bid_list = (x[0] for x in business_features)\n",
    "    \n",
    "    dataset.fit(uid_list, bid_list, user_features=user_features_list, item_features=business_features_list)\n",
    "    interactions_mat, interactions_weights = dataset.build_interactions(interaction_features)\n",
    "    num_users, num_items = dataset.interactions_shape()\n",
    "\n",
    "    # business features matrix\n",
    "    business_features_mat = dataset.build_item_features(business_features)\n",
    "\n",
    "    # user features matrix\n",
    "    user_features_mat = dataset.build_user_features(user_features)\n",
    "    \n",
    "    users_map = dataset.mapping()[0]\n",
    "    business_map = dataset.mapping()[2]\n",
    "    \n",
    "    return interactions_mat, interactions_weights, business_features_mat, user_features_mat\n",
    "\n",
    "\n",
    "def get_rating_user_business_mat(ratings, user_df, business_df):\n",
    "    uid = set(ratings['user_id'].values)\n",
    "    bid = set(ratings['business_id'].values)\n",
    "    \n",
    "    user_df = user_df[user_df['user_id'].apply(lambda x: x in uid)].reset_index(drop = True)\n",
    "    business_df = business_df[business_df['business_id'].apply(lambda x: x in bid)].reset_index(drop = True)\n",
    "    \n",
    "    user_features = convert_df_to_tupleList('user_id', user_df)\n",
    "    business_features = convert_df_to_tupleList('business_id', business_df)\n",
    "    interaction_features = convert_ratings_to_tupleList(ratings, 'user_id', 'business_id', 'rating')\n",
    "    \n",
    "    return convert_to_fm_format(interaction_features, user_features, business_features)"
   ]
  },
  {
   "cell_type": "code",
   "execution_count": 6,
   "metadata": {
    "scrolled": false
   },
   "outputs": [
    {
     "name": "stdout",
     "output_type": "stream",
     "text": [
      "Train Data Formatted:\n",
      "Interaction matrix shape:  (31710, 3675)\n",
      "Business matrix shape:  (3675, 30)\n",
      "User matrix shape:  (31710, 32)\n",
      "\n",
      "\n",
      "Test Data Formatted:\n",
      "Interaction matrix shape:  (31710, 3216)\n",
      "Business matrix shape:  (3216, 30)\n",
      "User matrix shape:  (31710, 32)\n",
      "\n",
      "\n",
      "Validation Data Formatted:\n",
      "Interaction matrix shape:  (31710, 3481)\n",
      "Business matrix shape:  (3481, 30)\n",
      "User matrix shape:  (31710, 32)\n"
     ]
    }
   ],
   "source": [
    "print(\"Train Data Formatted:\")\n",
    "train_interactions_mat, train_interactions_weights, train_business_features_mat, train_user_features_mat = get_rating_user_business_mat(ratings_train, user_df, business_df)\n",
    "print(\"Interaction matrix shape: \", train_interactions_mat.get_shape())\n",
    "print(\"Business matrix shape: \", train_business_features_mat.get_shape())\n",
    "print(\"User matrix shape: \", train_user_features_mat.get_shape())\n",
    "\n",
    "print(\"\\n\\nTest Data Formatted:\")\n",
    "test_interactions_mat, test_interactions_weights, test_business_features_mat, test_user_features_mat = get_rating_user_business_mat(ratings_test, user_df, business_df)\n",
    "print(\"Interaction matrix shape: \", test_interactions_mat.get_shape())\n",
    "print(\"Business matrix shape: \", test_business_features_mat.get_shape())\n",
    "print(\"User matrix shape: \", test_user_features_mat.get_shape())\n",
    "\n",
    "print(\"\\n\\nValidation Data Formatted:\")\n",
    "valid_interactions_mat, valid_interactions_weights, valid_business_features_mat, valid_user_features_mat = get_rating_user_business_mat(ratings_valid, user_df, business_df)\n",
    "print(\"Interaction matrix shape: \", valid_interactions_mat.get_shape())\n",
    "print(\"Business matrix shape: \", valid_business_features_mat.get_shape())\n",
    "print(\"User matrix shape: \", valid_user_features_mat.get_shape())"
   ]
  },
  {
   "cell_type": "markdown",
   "metadata": {},
   "source": [
    "#### 3. Model Training"
   ]
  },
  {
   "cell_type": "code",
   "execution_count": 7,
   "metadata": {},
   "outputs": [],
   "source": [
    "def train_model(interactions_mat, user_features_mat, business_features_mat, \n",
    "                interactions_weights, learning_rate_p = 0.05, epochs_p = 30):\n",
    "    \n",
    "    print(\"Learning Rate \",learning_rate_p)\n",
    "    print(\"Epochs \",epochs_p)\n",
    "\n",
    "    model = LightFM(loss='warp', learning_rate=learning_rate_p)\n",
    "    model.fit(interactions_mat, user_features = user_features_mat, item_features = business_features_mat,\n",
    "              sample_weight = interactions_weights, epochs = epochs_p)\n",
    "    \n",
    "    return model"
   ]
  },
  {
   "cell_type": "code",
   "execution_count": 17,
   "metadata": {},
   "outputs": [],
   "source": [
    "def train_model_without_features(interactions_mat, \n",
    "                interactions_weights, learning_rate_p = 0.05, epochs_p = 30):\n",
    "    \n",
    "    print(\"Learning Rate \",learning_rate_p)\n",
    "    print(\"Epochs \",epochs_p)\n",
    "\n",
    "    model = LightFM(loss='warp', learning_rate=learning_rate_p)\n",
    "    model.fit(interactions_mat,\n",
    "              sample_weight = interactions_weights, epochs = epochs_p)\n",
    "    \n",
    "    return model"
   ]
  },
  {
   "cell_type": "markdown",
   "metadata": {},
   "source": [
    "#### 4. Model Evaluation"
   ]
  },
  {
   "cell_type": "code",
   "execution_count": 8,
   "metadata": {},
   "outputs": [],
   "source": [
    "def eval_metrics(model, interactions_mat, business_features_mat, user_features_mat, k_value=10):\n",
    "    \n",
    "    precision = np.nanmean(precision_at_k(model, interactions_mat, item_features = business_features_mat,\n",
    "                                          user_features = user_features_mat, k = k_value))\n",
    "    \n",
    "    recall = np.nanmean(recall_at_k(model, interactions_mat, item_features = business_features_mat,\n",
    "                                    user_features = user_features_mat, k = k_value))\n",
    "    \n",
    "    auc = np.nanmean(auc_score(model, interactions_mat, item_features = business_features_mat, \n",
    "                               user_features = user_features_mat))\n",
    "    \n",
    "    return precision, recall, auc"
   ]
  },
  {
   "cell_type": "code",
   "execution_count": 81,
   "metadata": {},
   "outputs": [],
   "source": [
    "def eval_metrics_without_features(model, interactions_mat, k_value=10):\n",
    "    \n",
    "    precision = np.nanmean(precision_at_k(model, interactions_mat, k = k_value))\n",
    "    \n",
    "    recall = np.nanmean(recall_at_k(model, interactions_mat, k = k_value))\n",
    "    \n",
    "    auc = np.nanmean(auc_score(model, interactions_mat))\n",
    "    \n",
    "    return precision, recall, auc"
   ]
  },
  {
   "cell_type": "markdown",
   "metadata": {},
   "source": [
    "#### 5. Hyperparameter Tuning\n",
    "##### 5.1 FM with Features\n",
    "\n",
    "1. Tuning for hyperparameter - **learning_rate**"
   ]
  },
  {
   "cell_type": "code",
   "execution_count": 9,
   "metadata": {},
   "outputs": [
    {
     "name": "stdout",
     "output_type": "stream",
     "text": [
      "Tuning Using validation Set: \n",
      "\n",
      "Learning Rate  0.01\n",
      "Epochs  30\n",
      "{'learning_rate': 0.01, 'precision': 0.022358878, 'recall': 0.039431366912638904, 'auc': 0.79679453}\n",
      "{'learning_rate': 0.01, 'precision': 0.0079280995, 'recall': 0.039640491958372756, 'auc': 0.78773135} \n",
      "\n",
      "Learning Rate  0.03\n",
      "Epochs  30\n",
      "{'learning_rate': 0.03, 'precision': 0.021592557, 'recall': 0.03774732765814362, 'auc': 0.79967374}\n",
      "{'learning_rate': 0.03, 'precision': 0.007704194, 'recall': 0.03852097130242826, 'auc': 0.7904477} \n",
      "\n",
      "Learning Rate  0.05\n",
      "Epochs  30\n",
      "{'learning_rate': 0.05, 'precision': 0.022560704, 'recall': 0.03873765249800165, 'auc': 0.8009239}\n",
      "{'learning_rate': 0.05, 'precision': 0.007839798, 'recall': 0.039198990854619996, 'auc': 0.79167354} \n",
      "\n",
      "Learning Rate  0.07\n",
      "Epochs  30\n",
      "{'learning_rate': 0.07, 'precision': 0.022563858, 'recall': 0.03874046439351566, 'auc': 0.8013522}\n",
      "{'learning_rate': 0.07, 'precision': 0.007839798, 'recall': 0.039198990854619996, 'auc': 0.792071} \n",
      "\n",
      "Learning Rate  0.09\n",
      "Epochs  30\n",
      "{'learning_rate': 0.09, 'precision': 0.022567015, 'recall': 0.03876020839386515, 'auc': 0.80158055}\n",
      "{'learning_rate': 0.09, 'precision': 0.007839798, 'recall': 0.039198990854619996, 'auc': 0.79234654} \n",
      "\n",
      "Learning Rate  0.11\n",
      "Epochs  30\n",
      "{'learning_rate': 0.11, 'precision': 0.02257332, 'recall': 0.03876019387227914, 'auc': 0.8017475}\n",
      "{'learning_rate': 0.11, 'precision': 0.007842951, 'recall': 0.03921475875118259, 'auc': 0.79242593} \n",
      "\n",
      "Learning Rate  0.13\n",
      "Epochs  30\n",
      "{'learning_rate': 0.13, 'precision': 0.02262693, 'recall': 0.03891535609250064, 'auc': 0.80189353}\n",
      "{'learning_rate': 0.13, 'precision': 0.007865027, 'recall': 0.03932513402712078, 'auc': 0.79257566} \n",
      "\n",
      "Learning Rate  0.15\n",
      "Epochs  30\n",
      "{'learning_rate': 0.15, 'precision': 0.022614319, 'recall': 0.038917837325383675, 'auc': 0.80191}\n",
      "{'learning_rate': 0.15, 'precision': 0.007852413, 'recall': 0.03926206244087039, 'auc': 0.7925886} \n",
      "\n",
      "Learning Rate  0.17\n",
      "Epochs  30\n",
      "{'learning_rate': 0.17, 'precision': 0.022598548, 'recall': 0.0387737822725478, 'auc': 0.8021215}\n",
      "{'learning_rate': 0.17, 'precision': 0.007839798, 'recall': 0.039198990854619996, 'auc': 0.79279035} \n",
      "\n",
      "Learning Rate  0.19\n",
      "Epochs  30\n",
      "{'learning_rate': 0.19, 'precision': 0.02262693, 'recall': 0.03884993065718523, 'auc': 0.80204004}\n",
      "{'learning_rate': 0.19, 'precision': 0.007852413, 'recall': 0.03926206244087039, 'auc': 0.7926604} \n",
      "\n"
     ]
    }
   ],
   "source": [
    "train_lr = []\n",
    "valid_lr = []\n",
    "print(\"Tuning Using validation Set: \\n\")\n",
    "learning_rates_list = [0.01, 0.03, 0.05, 0.07, 0.09, 0.11, 0.13, 0.15, 0.17, 0.19]\n",
    "\n",
    "for learning_rate in learning_rates_list:\n",
    "    model = train_model(train_interactions_mat, train_user_features_mat, train_business_features_mat, \n",
    "                        train_interactions_weights, learning_rate)\n",
    "    \n",
    "    train_p, train_r, train_auc =  eval_metrics(model, train_interactions_mat, \n",
    "                                                train_business_features_mat, train_user_features_mat)\n",
    "    \n",
    "    # Validation Accuracy\n",
    "    valid_p, valid_r, valid_auc = eval_metrics(model, valid_interactions_mat, \n",
    "                                               valid_business_features_mat, valid_user_features_mat)\n",
    "\n",
    "    tr = {\"learning_rate\": learning_rate, \"precision\": train_p, \"recall\":train_r, \"auc\":train_auc}\n",
    "    te = {\"learning_rate\": learning_rate, \"precision\": valid_p, \"recall\":valid_r, \"auc\":valid_auc}\n",
    "    \n",
    "    print(tr)\n",
    "    print(te, \"\\n\")\n",
    "    \n",
    "    train_lr.append(tr)\n",
    "    valid_lr.append(te)"
   ]
  },
  {
   "cell_type": "code",
   "execution_count": 85,
   "metadata": {},
   "outputs": [
    {
     "name": "stdout",
     "output_type": "stream",
     "text": [
      "Best Learning parameter found:  0.13\n",
      "\n",
      " [{'learning_rate': 0.01, 'precision': 0.022358878, 'recall': 0.039431366912638904, 'auc': 0.79679453}, {'learning_rate': 0.03, 'precision': 0.021592557, 'recall': 0.03774732765814362, 'auc': 0.79967374}, {'learning_rate': 0.05, 'precision': 0.022560704, 'recall': 0.03873765249800165, 'auc': 0.8009239}, {'learning_rate': 0.07, 'precision': 0.022563858, 'recall': 0.03874046439351566, 'auc': 0.8013522}, {'learning_rate': 0.09, 'precision': 0.022567015, 'recall': 0.03876020839386515, 'auc': 0.80158055}, {'learning_rate': 0.11, 'precision': 0.02257332, 'recall': 0.03876019387227914, 'auc': 0.8017475}, {'learning_rate': 0.13, 'precision': 0.02262693, 'recall': 0.03891535609250064, 'auc': 0.80189353}, {'learning_rate': 0.15, 'precision': 0.022614319, 'recall': 0.038917837325383675, 'auc': 0.80191}, {'learning_rate': 0.17, 'precision': 0.022598548, 'recall': 0.0387737822725478, 'auc': 0.8021215}, {'learning_rate': 0.19, 'precision': 0.02262693, 'recall': 0.03884993065718523, 'auc': 0.80204004}] \n",
      "\n",
      "\n",
      "[{'learning_rate': 0.01, 'precision': 0.0079280995, 'recall': 0.039640491958372756, 'auc': 0.78773135}, {'learning_rate': 0.03, 'precision': 0.007704194, 'recall': 0.03852097130242826, 'auc': 0.7904477}, {'learning_rate': 0.05, 'precision': 0.007839798, 'recall': 0.039198990854619996, 'auc': 0.79167354}, {'learning_rate': 0.07, 'precision': 0.007839798, 'recall': 0.039198990854619996, 'auc': 0.792071}, {'learning_rate': 0.09, 'precision': 0.007839798, 'recall': 0.039198990854619996, 'auc': 0.79234654}, {'learning_rate': 0.11, 'precision': 0.007842951, 'recall': 0.03921475875118259, 'auc': 0.79242593}, {'learning_rate': 0.13, 'precision': 0.007865027, 'recall': 0.03932513402712078, 'auc': 0.79257566}, {'learning_rate': 0.15, 'precision': 0.007852413, 'recall': 0.03926206244087039, 'auc': 0.7925886}, {'learning_rate': 0.17, 'precision': 0.007839798, 'recall': 0.039198990854619996, 'auc': 0.79279035}, {'learning_rate': 0.19, 'precision': 0.007852413, 'recall': 0.03926206244087039, 'auc': 0.7926604}]\n"
     ]
    }
   ],
   "source": [
    "best_learning_rate = 0.13\n",
    "print(\"Best Learning parameter found: \", best_learning_rate)\n",
    "print(\"\\n\",train_lr, \"\\n\\n\")\n",
    "print(valid_lr)"
   ]
  },
  {
   "cell_type": "code",
   "execution_count": null,
   "metadata": {},
   "outputs": [],
   "source": [
    "# plotted the Precision, Recall, AUC\n",
    "train_pre = [a['precision'] for a in train_lr]\n",
    "train_rec = [a['recall'] for a in train_lr]\n",
    "train_auc = [a['auc'] for a in train_lr]\n",
    "\n",
    "valid_pre = [a['precision'] for a in valid_lr]\n",
    "valid_rec = [a['recall'] for a in valid_lr]\n",
    "valid_auc = [a['auc'] for a in valid_lr]\n",
    "\n",
    "\n",
    "plt.subplots_adjust(0.1, 0.1, 2, 1.4)\n",
    "\n",
    "plt.subplot(1, 2, 1)\n",
    "plt.plot(learning_rates_list, train_pre, marker='o')\n",
    "plt.plot(learning_rates_list, train_rec, marker='o')\n",
    "plt.plot(learning_rates_list, train_auc, marker='o')\n",
    "\n",
    "plt.legend(['Precision', 'Recall', 'AUC'])\n",
    "plt.title('Performace on Train Dataset')\n",
    "plt.xlabel('Learning rate')\n",
    "plt.ylabel('Performance')\n",
    "\n",
    "plt.subplot(1, 2, 2)\n",
    "plt.plot(learning_rates_list, valid_pre, marker='o')\n",
    "plt.plot(learning_rates_list, valid_rec, marker='o')\n",
    "plt.plot(learning_rates_list, valid_auc, marker='o')\n",
    "\n",
    "plt.legend(['Precision', 'Recall', 'AUC'])\n",
    "plt.title('Performace on Validation Dataset')\n",
    "plt.xlabel('Learning rate')\n",
    "plt.ylabel('Performance')\n",
    "\n",
    "plt.show()"
   ]
  },
  {
   "cell_type": "markdown",
   "metadata": {},
   "source": [
    "2. Tuning for hyperparameter - **epochs**"
   ]
  },
  {
   "cell_type": "code",
   "execution_count": 25,
   "metadata": {
    "scrolled": false
   },
   "outputs": [
    {
     "name": "stdout",
     "output_type": "stream",
     "text": [
      "Tuning Using validation Set: \n",
      "\n",
      "Learning Rate  0.13\n",
      "Epochs  5\n",
      "{'epochs': 0.01, 'precision': 0.022576476, 'recall': 0.0387795901018924, 'auc': 0.80122393}\n",
      "{'epochs': 0.01, 'precision': 0.007849258, 'recall': 0.03924629454430779, 'auc': 0.7919521} \n",
      "\n",
      "Learning Rate  0.13\n",
      "Epochs  10\n",
      "{'epochs': 0.01, 'precision': 0.022601703, 'recall': 0.03880110230133411, 'auc': 0.8014045}\n",
      "{'epochs': 0.01, 'precision': 0.007846106, 'recall': 0.03923052664774519, 'auc': 0.7921605} \n",
      "\n",
      "Learning Rate  0.13\n",
      "Epochs  15\n",
      "{'epochs': 0.01, 'precision': 0.022567013, 'recall': 0.03874807020905783, 'auc': 0.80167556}\n",
      "{'epochs': 0.01, 'precision': 0.007849259, 'recall': 0.03924629454430779, 'auc': 0.7923665} \n",
      "\n",
      "Learning Rate  0.13\n",
      "Epochs  20\n",
      "{'epochs': 0.01, 'precision': 0.022636391, 'recall': 0.038879461422243154, 'auc': 0.801809}\n",
      "{'epochs': 0.01, 'precision': 0.007849258, 'recall': 0.03924629454430779, 'auc': 0.79247844} \n",
      "\n",
      "Learning Rate  0.13\n",
      "Epochs  25\n",
      "{'epochs': 0.01, 'precision': 0.022576476, 'recall': 0.03875955886595315, 'auc': 0.8017865}\n",
      "{'epochs': 0.01, 'precision': 0.007846106, 'recall': 0.03923052664774519, 'auc': 0.7924945} \n",
      "\n",
      "Learning Rate  0.13\n",
      "Epochs  30\n",
      "{'epochs': 0.01, 'precision': 0.022560704, 'recall': 0.03875957546495805, 'auc': 0.8018025}\n",
      "{'epochs': 0.01, 'precision': 0.007842951, 'recall': 0.03921475875118259, 'auc': 0.7924819} \n",
      "\n",
      "Learning Rate  0.13\n",
      "Epochs  35\n",
      "{'epochs': 0.01, 'precision': 0.022595396, 'recall': 0.038838681377670665, 'auc': 0.8018595}\n",
      "{'epochs': 0.01, 'precision': 0.007849258, 'recall': 0.03924629454430779, 'auc': 0.79254377} \n",
      "\n",
      "Learning Rate  0.13\n",
      "Epochs  40\n",
      "{'epochs': 0.01, 'precision': 0.02262378, 'recall': 0.03887316125110305, 'auc': 0.8019376}\n",
      "{'epochs': 0.01, 'precision': 0.007855566, 'recall': 0.039277830337432984, 'auc': 0.7926135} \n",
      "\n",
      "Learning Rate  0.13\n",
      "Epochs  45\n",
      "{'epochs': 0.01, 'precision': 0.022639547, 'recall': 0.03885583430087487, 'auc': 0.801996}\n",
      "{'epochs': 0.01, 'precision': 0.007846106, 'recall': 0.03923052664774519, 'auc': 0.7926797} \n",
      "\n",
      "Learning Rate  0.13\n",
      "Epochs  50\n",
      "{'epochs': 0.01, 'precision': 0.022620626, 'recall': 0.03888187410190181, 'auc': 0.80196196}\n",
      "{'epochs': 0.01, 'precision': 0.007852413, 'recall': 0.03926206244087039, 'auc': 0.79263365} \n",
      "\n"
     ]
    }
   ],
   "source": [
    "train_epoch = []\n",
    "valid_epoch = []\n",
    "print(\"Tuning Using validation Set: \\n\")\n",
    "epochs_list = [5, 10, 15, 20, 25, 30, 35, 40, 45, 50]\n",
    "\n",
    "for epochs in epochs_list:\n",
    "    model = train_model(train_interactions_mat, train_user_features_mat, train_business_features_mat, \n",
    "                        train_interactions_weights, learning_rate_p = best_learning_rate, epochs_p = epochs)\n",
    "    \n",
    "    train_p, train_r, train_auc =  eval_metrics(model, train_interactions_mat, \n",
    "                                                train_business_features_mat, train_user_features_mat)\n",
    "    \n",
    "    # Validation Accuracy\n",
    "    valid_p, valid_r, valid_auc = eval_metrics(model, valid_interactions_mat, \n",
    "                                               valid_business_features_mat, valid_user_features_mat)\n",
    "\n",
    "    tr = {\"epochs\": learning_rate, \"precision\": train_p, \"recall\":train_r, \"auc\":train_auc}\n",
    "    te = {\"epochs\": learning_rate, \"precision\": valid_p, \"recall\":valid_r, \"auc\":valid_auc}\n",
    "    \n",
    "    print(tr)\n",
    "    print(te, \"\\n\")\n",
    "    \n",
    "    train_epoch.append(tr)\n",
    "    valid_epoch.append(te)"
   ]
  },
  {
   "cell_type": "code",
   "execution_count": 15,
   "metadata": {},
   "outputs": [
    {
     "name": "stdout",
     "output_type": "stream",
     "text": [
      "Best Number of Epochs found:  25\n",
      "\n",
      " [{'epochs': 0.19, 'precision': 0.022529172, 'recall': 0.03869798832411684, 'auc': 0.80075896}, {'epochs': 0.19, 'precision': 0.022585934, 'recall': 0.03880133541404633, 'auc': 0.8013791}, {'epochs': 0.19, 'precision': 0.022598548, 'recall': 0.03878807377307144, 'auc': 0.80161536}, {'epochs': 0.19, 'precision': 0.022548094, 'recall': 0.03872432909468106, 'auc': 0.8016837}, {'epochs': 0.19, 'precision': 0.0226427, 'recall': 0.03889457816829866, 'auc': 0.80186665}, {'epochs': 0.19, 'precision': 0.022557553, 'recall': 0.038749140216728206, 'auc': 0.8017779}, {'epochs': 0.19, 'precision': 0.022636393, 'recall': 0.038876458578325085, 'auc': 0.801918}, {'epochs': 0.19, 'precision': 0.022652162, 'recall': 0.03887154730048204, 'auc': 0.8020284}, {'epochs': 0.19, 'precision': 0.02258278, 'recall': 0.03876605866752485, 'auc': 0.80199736}, {'epochs': 0.19, 'precision': 0.0226427, 'recall': 0.03886791303383353, 'auc': 0.80201495}] \n",
      "\n",
      "\n",
      "[{'epochs': 0.19, 'precision': 0.007833491, 'recall': 0.0391674550614948, 'auc': 0.7914981}, {'epochs': 0.19, 'precision': 0.007833491, 'recall': 0.0391674550614948, 'auc': 0.79212666}, {'epochs': 0.19, 'precision': 0.007830338, 'recall': 0.0391516871649322, 'auc': 0.7923241}, {'epochs': 0.19, 'precision': 0.007842951, 'recall': 0.03921475875118259, 'auc': 0.79239404}, {'epochs': 0.19, 'precision': 0.00785872, 'recall': 0.039293598233995586, 'auc': 0.79253185}, {'epochs': 0.19, 'precision': 0.007836645, 'recall': 0.039183222958057394, 'auc': 0.79249316}, {'epochs': 0.19, 'precision': 0.007865027, 'recall': 0.03932513402712078, 'auc': 0.7926131}, {'epochs': 0.19, 'precision': 0.007842952, 'recall': 0.03921475875118259, 'auc': 0.7927265}, {'epochs': 0.19, 'precision': 0.007839798, 'recall': 0.039198990854619996, 'auc': 0.7926742}, {'epochs': 0.19, 'precision': 0.007846106, 'recall': 0.03923052664774519, 'auc': 0.79267174}]\n"
     ]
    }
   ],
   "source": [
    "best_epochs = 25\n",
    "print(\"Best Number of Epochs found: \", best_epochs)\n",
    "print(\"\\n\",train_epoch, \"\\n\\n\")\n",
    "print(valid_epoch)"
   ]
  },
  {
   "cell_type": "code",
   "execution_count": null,
   "metadata": {},
   "outputs": [],
   "source": [
    "# plotted the Precision, Recall, AUC\n",
    "train_pre = [a['precision'] for a in train_epoch]\n",
    "train_rec = [a['recall'] for a in train_epoch]\n",
    "train_auc = [a['auc'] for a in train_epoch]\n",
    "\n",
    "valid_pre = [a['precision'] for a in valid_epoch]\n",
    "valid_rec = [a['recall'] for a in valid_epoch]\n",
    "valid_auc = [a['auc'] for a in valid_epoch]\n",
    "\n",
    "\n",
    "plt.subplots_adjust(0.1, 0.1, 2, 1.4)\n",
    "\n",
    "plt.subplot(1, 2, 1)\n",
    "plt.plot(epochs_list, train_pre, marker='o')\n",
    "plt.plot(epochs_list, train_rec, marker='o')\n",
    "plt.plot(epochs_list, train_auc, marker='o')\n",
    "\n",
    "plt.legend(['Precision', 'Recall', 'AUC'])\n",
    "plt.title('Performace on Train Dataset')\n",
    "plt.xlabel('Epochs')\n",
    "plt.ylabel('Performance')\n",
    "\n",
    "plt.subplot(1, 2, 2)\n",
    "plt.plot(epochs_list, valid_pre, marker='o')\n",
    "plt.plot(epochs_list, valid_rec, marker='o')\n",
    "plt.plot(epochs_list, valid_auc, marker='o')\n",
    "\n",
    "plt.legend(['Precision', 'Recall', 'AUC'])\n",
    "plt.title('Performace on Validation Dataset')\n",
    "plt.xlabel('Epochs')\n",
    "plt.ylabel('Performance')\n",
    "\n",
    "plt.show()\n"
   ]
  },
  {
   "cell_type": "markdown",
   "metadata": {},
   "source": [
    "##### 5.2 FM without Features\n",
    "\n",
    "1. Tuning for hyperparameter - **learning_rate**"
   ]
  },
  {
   "cell_type": "code",
   "execution_count": 79,
   "metadata": {},
   "outputs": [
    {
     "name": "stdout",
     "output_type": "stream",
     "text": [
      "shape of test_interactions_mat_wf:  (31710, 3675)\n",
      "shape of valid_interactions_mat_wf:  (31710, 3675)\n"
     ]
    }
   ],
   "source": [
    "# train data\n",
    "train_interactions_mat_wf = train_interactions_mat.copy()\n",
    "\n",
    "# test data\n",
    "test_interactions_mat_wf = test_interactions_mat.copy()\n",
    "r = test_interactions_mat_wf.get_shape()[0]\n",
    "c = train_interactions_mat_wf.get_shape()[1] - test_interactions_mat_wf.get_shape()[1]\n",
    "additional_business_mat = coo_matrix(np.zeros([r, c]), dtype = np.float32)\n",
    "test_interactions_mat_wf = coo_matrix(np.hstack((test_interactions_mat_wf.toarray(), additional_business_mat.toarray())))\n",
    "print(\"shape of test_interactions_mat_wf: \", test_interactions_mat_wf.get_shape())\n",
    "\n",
    "\n",
    "# validation data\n",
    "valid_interactions_mat_wf = valid_interactions_mat.copy()\n",
    "r = valid_interactions_mat_wf.get_shape()[0]\n",
    "c = train_interactions_mat_wf.get_shape()[1] - valid_interactions_mat_wf.get_shape()[1]\n",
    "\n",
    "additional_business_mat = coo_matrix(np.zeros([r, c]), dtype = np.float32)\n",
    "valid_interactions_mat_wf = coo_matrix(np.hstack((valid_interactions_mat_wf.toarray(), additional_business_mat.toarray())))\n",
    "print(\"shape of valid_interactions_mat_wf: \", valid_interactions_mat_wf.get_shape())\n"
   ]
  },
  {
   "cell_type": "code",
   "execution_count": 83,
   "metadata": {},
   "outputs": [
    {
     "name": "stdout",
     "output_type": "stream",
     "text": [
      "Tuning Using validation Set: \n",
      "\n",
      "Learning Rate  0.01\n",
      "Epochs  30\n",
      "{'learning_rate': 0.01, 'precision': 0.045701675, 'recall': 0.0728546834368458, 'auc': 0.8359411}\n",
      "{'learning_rate': 0.01, 'precision': 0.0004320404, 'recall': 0.0021917376222011986, 'auc': 0.5080379} \n",
      "\n",
      "Learning Rate  0.03\n",
      "Epochs  30\n",
      "{'learning_rate': 0.03, 'precision': 0.08600126, 'recall': 0.16646684097459635, 'auc': 0.92328733}\n",
      "{'learning_rate': 0.03, 'precision': 0.00033112583, 'recall': 0.0016556291390728477, 'auc': 0.509432} \n",
      "\n",
      "Learning Rate  0.05\n",
      "Epochs  30\n",
      "{'learning_rate': 0.05, 'precision': 0.101324506, 'recall': 0.20811995673824893, 'auc': 0.9523789}\n",
      "{'learning_rate': 0.05, 'precision': 0.00035635446, 'recall': 0.0018133081046988332, 'auc': 0.5084141} \n",
      "\n",
      "Learning Rate  0.07\n",
      "Epochs  30\n",
      "{'learning_rate': 0.07, 'precision': 0.09849259, 'recall': 0.21049341475332878, 'auc': 0.95966893}\n",
      "{'learning_rate': 0.07, 'precision': 0.00040681177, 'recall': 0.0020498265531378114, 'auc': 0.5027879} \n",
      "\n",
      "Learning Rate  0.09\n",
      "Epochs  30\n",
      "{'learning_rate': 0.09, 'precision': 0.09735099, 'recall': 0.20868999032717486, 'auc': 0.9626061}\n",
      "{'learning_rate': 0.09, 'precision': 0.00040365817, 'recall': 0.0020498265531378114, 'auc': 0.5029393} \n",
      "\n",
      "Learning Rate  0.11\n",
      "Epochs  30\n",
      "{'learning_rate': 0.11, 'precision': 0.090286985, 'recall': 0.18942986828908948, 'auc': 0.96036196}\n",
      "{'learning_rate': 0.11, 'precision': 0.00043519397, 'recall': 0.0021917376222011986, 'auc': 0.5086836} \n",
      "\n",
      "Learning Rate  0.13\n",
      "Epochs  30\n",
      "{'learning_rate': 0.13, 'precision': 0.07552507, 'recall': 0.15110098977927147, 'auc': 0.94846445}\n",
      "{'learning_rate': 0.13, 'precision': 0.00043834755, 'recall': 0.0021917376222011986, 'auc': 0.5036726} \n",
      "\n",
      "Learning Rate  0.15\n",
      "Epochs  30\n",
      "{'learning_rate': 0.15, 'precision': 0.038234, 'recall': 0.0681520614801283, 'auc': 0.89857805}\n",
      "{'learning_rate': 0.15, 'precision': 0.00048880477, 'recall': 0.0024597918637653737, 'auc': 0.5065393} \n",
      "\n",
      "Learning Rate  0.17\n",
      "Epochs  30\n",
      "{'learning_rate': 0.17, 'precision': 0.010753705, 'recall': 0.0119740083037716, 'auc': 0.8484811}\n",
      "{'learning_rate': 0.17, 'precision': 0.0005077263, 'recall': 0.0025386313465783667, 'auc': 0.50394815} \n",
      "\n",
      "Learning Rate  0.19\n",
      "Epochs  30\n",
      "{'learning_rate': 0.19, 'precision': 0.0058751185, 'recall': 0.006122589328806142, 'auc': 0.774399}\n",
      "{'learning_rate': 0.19, 'precision': 0.00037212233, 'recall': 0.001892147587511826, 'auc': 0.50218546} \n",
      "\n"
     ]
    }
   ],
   "source": [
    "train_lr_wf = []\n",
    "valid_lr_wf = []\n",
    "print(\"Tuning Using validation Set: \\n\")\n",
    "learning_rates_list = [0.01, 0.03, 0.05, 0.07, 0.09, 0.11, 0.13, 0.15, 0.17, 0.19]\n",
    "\n",
    "for learning_rate in learning_rates_list:\n",
    "    model = train_model_without_features(train_interactions_mat, train_interactions_weights, learning_rate)\n",
    "    \n",
    "    train_p, train_r, train_auc =  eval_metrics_without_features(model, train_interactions_mat)\n",
    "    \n",
    "    # Validation Accuracy\n",
    "    valid_p, valid_r, valid_auc = eval_metrics_without_features(model, valid_interactions_mat_wf)\n",
    "\n",
    "    tr = {\"learning_rate\": learning_rate, \"precision\": train_p, \"recall\":train_r, \"auc\":train_auc}\n",
    "    te = {\"learning_rate\": learning_rate, \"precision\": valid_p, \"recall\":valid_r, \"auc\":valid_auc}\n",
    "    \n",
    "    print(tr)\n",
    "    print(te, \"\\n\")\n",
    "    \n",
    "    train_lr_wf.append(tr)\n",
    "    valid_lr_wf.append(te)"
   ]
  },
  {
   "cell_type": "code",
   "execution_count": 86,
   "metadata": {},
   "outputs": [
    {
     "name": "stdout",
     "output_type": "stream",
     "text": [
      "Best Learning parameter found:  0.05\n",
      "\n",
      " [{'learning_rate': 0.01, 'precision': 0.045701675, 'recall': 0.0728546834368458, 'auc': 0.8359411}, {'learning_rate': 0.03, 'precision': 0.08600126, 'recall': 0.16646684097459635, 'auc': 0.92328733}, {'learning_rate': 0.05, 'precision': 0.101324506, 'recall': 0.20811995673824893, 'auc': 0.9523789}, {'learning_rate': 0.07, 'precision': 0.09849259, 'recall': 0.21049341475332878, 'auc': 0.95966893}, {'learning_rate': 0.09, 'precision': 0.09735099, 'recall': 0.20868999032717486, 'auc': 0.9626061}, {'learning_rate': 0.11, 'precision': 0.090286985, 'recall': 0.18942986828908948, 'auc': 0.96036196}, {'learning_rate': 0.13, 'precision': 0.07552507, 'recall': 0.15110098977927147, 'auc': 0.94846445}, {'learning_rate': 0.15, 'precision': 0.038234, 'recall': 0.0681520614801283, 'auc': 0.89857805}, {'learning_rate': 0.17, 'precision': 0.010753705, 'recall': 0.0119740083037716, 'auc': 0.8484811}, {'learning_rate': 0.19, 'precision': 0.0058751185, 'recall': 0.006122589328806142, 'auc': 0.774399}] \n",
      "\n",
      "\n",
      "[{'learning_rate': 0.01, 'precision': 0.0004320404, 'recall': 0.0021917376222011986, 'auc': 0.5080379}, {'learning_rate': 0.03, 'precision': 0.00033112583, 'recall': 0.0016556291390728477, 'auc': 0.509432}, {'learning_rate': 0.05, 'precision': 0.00035635446, 'recall': 0.0018133081046988332, 'auc': 0.5084141}, {'learning_rate': 0.07, 'precision': 0.00040681177, 'recall': 0.0020498265531378114, 'auc': 0.5027879}, {'learning_rate': 0.09, 'precision': 0.00040365817, 'recall': 0.0020498265531378114, 'auc': 0.5029393}, {'learning_rate': 0.11, 'precision': 0.00043519397, 'recall': 0.0021917376222011986, 'auc': 0.5086836}, {'learning_rate': 0.13, 'precision': 0.00043834755, 'recall': 0.0021917376222011986, 'auc': 0.5036726}, {'learning_rate': 0.15, 'precision': 0.00048880477, 'recall': 0.0024597918637653737, 'auc': 0.5065393}, {'learning_rate': 0.17, 'precision': 0.0005077263, 'recall': 0.0025386313465783667, 'auc': 0.50394815}, {'learning_rate': 0.19, 'precision': 0.00037212233, 'recall': 0.001892147587511826, 'auc': 0.50218546}]\n"
     ]
    }
   ],
   "source": [
    "best_learning_rate_wf = 0.05\n",
    "print(\"Best Learning parameter found: \", best_learning_rate_wf)\n",
    "print(\"\\n\",train_lr_wf, \"\\n\\n\")\n",
    "print(valid_lr_wf)"
   ]
  },
  {
   "cell_type": "markdown",
   "metadata": {},
   "source": [
    "2. Tuning for hyperparameter - **epochs**"
   ]
  },
  {
   "cell_type": "code",
   "execution_count": 88,
   "metadata": {},
   "outputs": [
    {
     "name": "stdout",
     "output_type": "stream",
     "text": [
      "Tuning Using validation Set: \n",
      "\n",
      "Learning Rate  0.05\n",
      "Epochs  5\n",
      "Train set:  {'epochs': 0.19, 'precision': 0.06198676, 'recall': 0.10656149125154254, 'auc': 0.88581157}\n",
      "Validation set:  {'epochs': 0.19, 'precision': 0.00039735102, 'recall': 0.001986754966887417, 'auc': 0.50656205} \n",
      "\n",
      "Learning Rate  0.05\n",
      "Epochs  10\n",
      "Train set:  {'epochs': 0.19, 'precision': 0.0822895, 'recall': 0.15514996270066458, 'auc': 0.92136055}\n",
      "Validation set:  {'epochs': 0.19, 'precision': 0.00036896882, 'recall': 0.0018448438978240303, 'auc': 0.5108431} \n",
      "\n",
      "Learning Rate  0.05\n",
      "Epochs  15\n",
      "Train set:  {'epochs': 0.19, 'precision': 0.08941344, 'recall': 0.17479655774777142, 'auc': 0.9347146}\n",
      "Validation set:  {'epochs': 0.19, 'precision': 0.00040365817, 'recall': 0.0020813623462630085, 'auc': 0.50747967} \n",
      "\n",
      "Learning Rate  0.05\n",
      "Epochs  20\n",
      "Train set:  {'epochs': 0.19, 'precision': 0.09528225, 'recall': 0.19071709201997988, 'auc': 0.94148415}\n",
      "Validation set:  {'epochs': 0.19, 'precision': 0.00042257961, 'recall': 0.0021286660359508044, 'auc': 0.50668454} \n",
      "\n",
      "Learning Rate  0.05\n",
      "Epochs  25\n",
      "Train set:  {'epochs': 0.19, 'precision': 0.097392, 'recall': 0.1994588740857212, 'auc': 0.9482284}\n",
      "Validation set:  {'epochs': 0.19, 'precision': 0.0003941974, 'recall': 0.002002522863450016, 'auc': 0.50627136} \n",
      "\n",
      "Learning Rate  0.05\n",
      "Epochs  30\n",
      "Train set:  {'epochs': 0.19, 'precision': 0.09867235, 'recall': 0.20335510494643347, 'auc': 0.95178956}\n",
      "Validation set:  {'epochs': 0.19, 'precision': 0.000337433, 'recall': 0.0017029328287606433, 'auc': 0.50781024} \n",
      "\n",
      "Learning Rate  0.05\n",
      "Epochs  35\n",
      "Train set:  {'epochs': 0.19, 'precision': 0.10089879, 'recall': 0.213685624476355, 'auc': 0.95380366}\n",
      "Validation set:  {'epochs': 0.19, 'precision': 0.00035320089, 'recall': 0.001781772311573636, 'auc': 0.50558144} \n",
      "\n",
      "Learning Rate  0.05\n",
      "Epochs  40\n",
      "Train set:  {'epochs': 0.19, 'precision': 0.100879855, 'recall': 0.2135428913483959, 'auc': 0.9566728}\n",
      "Validation set:  {'epochs': 0.19, 'precision': 0.00038158312, 'recall': 0.0019079154840744245, 'auc': 0.50774634} \n",
      "\n",
      "Learning Rate  0.05\n",
      "Epochs  45\n",
      "Train set:  {'epochs': 0.19, 'precision': 0.103658155, 'recall': 0.22198699946079833, 'auc': 0.9586674}\n",
      "Validation set:  {'epochs': 0.19, 'precision': 0.00035320089, 'recall': 0.0017660044150110375, 'auc': 0.5066648} \n",
      "\n",
      "Learning Rate  0.05\n",
      "Epochs  50\n",
      "Train set:  {'epochs': 0.19, 'precision': 0.10398613, 'recall': 0.2220210317559777, 'auc': 0.96095896}\n",
      "Validation set:  {'epochs': 0.19, 'precision': 0.00038473663, 'recall': 0.001923683380637023, 'auc': 0.5040108} \n",
      "\n"
     ]
    }
   ],
   "source": [
    "train_epoch_wf = []\n",
    "valid_epoch_wf = []\n",
    "print(\"Tuning Using validation Set: \\n\")\n",
    "epochs_list = [5, 10, 15, 20, 25, 30, 35, 40, 45, 50]\n",
    "\n",
    "for epochs in epochs_list:\n",
    "    model = train_model_without_features(train_interactions_mat, train_interactions_weights, \n",
    "                        learning_rate_p = best_learning_rate_wf, epochs_p = epochs)\n",
    "    \n",
    "    train_p, train_r, train_auc =  eval_metrics_without_features(model, train_interactions_mat)\n",
    "    \n",
    "    # Validation Accuracy\n",
    "    valid_p, valid_r, valid_auc = eval_metrics_without_features(model, valid_interactions_mat_wf)\n",
    "\n",
    "    tr = {\"epochs\": learning_rate, \"precision\": train_p, \"recall\":train_r, \"auc\":train_auc}\n",
    "    te = {\"epochs\": learning_rate, \"precision\": valid_p, \"recall\":valid_r, \"auc\":valid_auc}\n",
    "    \n",
    "    print(\"Train set: \",tr)\n",
    "    print(\"Validation set: \",te, \"\\n\")\n",
    "    \n",
    "    train_epoch_wf.append(tr)\n",
    "    valid_epoch_wf.append(te)"
   ]
  },
  {
   "cell_type": "code",
   "execution_count": 89,
   "metadata": {},
   "outputs": [
    {
     "name": "stdout",
     "output_type": "stream",
     "text": [
      "Best Number of Epochs found:  35\n",
      "\n",
      " [{'epochs': 0.19, 'precision': 0.06198676, 'recall': 0.10656149125154254, 'auc': 0.88581157}, {'epochs': 0.19, 'precision': 0.0822895, 'recall': 0.15514996270066458, 'auc': 0.92136055}, {'epochs': 0.19, 'precision': 0.08941344, 'recall': 0.17479655774777142, 'auc': 0.9347146}, {'epochs': 0.19, 'precision': 0.09528225, 'recall': 0.19071709201997988, 'auc': 0.94148415}, {'epochs': 0.19, 'precision': 0.097392, 'recall': 0.1994588740857212, 'auc': 0.9482284}, {'epochs': 0.19, 'precision': 0.09867235, 'recall': 0.20335510494643347, 'auc': 0.95178956}, {'epochs': 0.19, 'precision': 0.10089879, 'recall': 0.213685624476355, 'auc': 0.95380366}, {'epochs': 0.19, 'precision': 0.100879855, 'recall': 0.2135428913483959, 'auc': 0.9566728}, {'epochs': 0.19, 'precision': 0.103658155, 'recall': 0.22198699946079833, 'auc': 0.9586674}, {'epochs': 0.19, 'precision': 0.10398613, 'recall': 0.2220210317559777, 'auc': 0.96095896}] \n",
      "\n",
      "\n",
      "[{'epochs': 0.19, 'precision': 0.00039735102, 'recall': 0.001986754966887417, 'auc': 0.50656205}, {'epochs': 0.19, 'precision': 0.00036896882, 'recall': 0.0018448438978240303, 'auc': 0.5108431}, {'epochs': 0.19, 'precision': 0.00040365817, 'recall': 0.0020813623462630085, 'auc': 0.50747967}, {'epochs': 0.19, 'precision': 0.00042257961, 'recall': 0.0021286660359508044, 'auc': 0.50668454}, {'epochs': 0.19, 'precision': 0.0003941974, 'recall': 0.002002522863450016, 'auc': 0.50627136}, {'epochs': 0.19, 'precision': 0.000337433, 'recall': 0.0017029328287606433, 'auc': 0.50781024}, {'epochs': 0.19, 'precision': 0.00035320089, 'recall': 0.001781772311573636, 'auc': 0.50558144}, {'epochs': 0.19, 'precision': 0.00038158312, 'recall': 0.0019079154840744245, 'auc': 0.50774634}, {'epochs': 0.19, 'precision': 0.00035320089, 'recall': 0.0017660044150110375, 'auc': 0.5066648}, {'epochs': 0.19, 'precision': 0.00038473663, 'recall': 0.001923683380637023, 'auc': 0.5040108}]\n"
     ]
    }
   ],
   "source": [
    "best_epochs_wf = 35\n",
    "print(\"Best Number of Epochs found: \", best_epochs_wf)\n",
    "print(\"\\n\",train_epoch_wf,\"\\n\\n\")\n",
    "print(valid_epoch_wf)"
   ]
  },
  {
   "cell_type": "markdown",
   "metadata": {},
   "source": [
    "#### 6. Model Training - using learnt best hyperparameters"
   ]
  },
  {
   "cell_type": "markdown",
   "metadata": {},
   "source": [
    "##### 6.1 FM with Features\n"
   ]
  },
  {
   "cell_type": "code",
   "execution_count": 90,
   "metadata": {
    "scrolled": true
   },
   "outputs": [
    {
     "name": "stdout",
     "output_type": "stream",
     "text": [
      "Learning Rate  0.13\n",
      "Epochs  25\n"
     ]
    }
   ],
   "source": [
    "model_final = train_model(train_interactions_mat, train_user_features_mat, train_business_features_mat, \n",
    "                          train_interactions_weights, learning_rate_p = best_learning_rate, epochs_p = best_epochs)"
   ]
  },
  {
   "cell_type": "markdown",
   "metadata": {},
   "source": [
    "##### 6.2 FM without Features\n"
   ]
  },
  {
   "cell_type": "code",
   "execution_count": 96,
   "metadata": {},
   "outputs": [
    {
     "name": "stdout",
     "output_type": "stream",
     "text": [
      "Learning Rate  0.05\n",
      "Epochs  35\n"
     ]
    }
   ],
   "source": [
    "model_final_wf = train_model_without_features(train_interactions_mat, train_interactions_weights, \n",
    "                        learning_rate_p = best_learning_rate_wf, epochs_p = best_epochs_wf)\n",
    "    "
   ]
  },
  {
   "cell_type": "markdown",
   "metadata": {},
   "source": [
    "#### 7. Model Evaluation - on Train and Test Data"
   ]
  },
  {
   "cell_type": "markdown",
   "metadata": {},
   "source": [
    "##### 7.1 FM with Features\n"
   ]
  },
  {
   "cell_type": "code",
   "execution_count": 94,
   "metadata": {
    "scrolled": true
   },
   "outputs": [
    {
     "name": "stdout",
     "output_type": "stream",
     "text": [
      "\n",
      "Precision: train 0.023, test 0.004\n",
      "Recall: train 0.039, test 0.036\n",
      "AUC: train 0.80, test 0.749\n"
     ]
    }
   ],
   "source": [
    "# test precision\n",
    "test_p, test_r, test_auc = eval_metrics(model_final, test_interactions_mat, \n",
    "                                        test_business_features_mat, test_user_features_mat)\n",
    "\n",
    "# training precision\n",
    "train_p, train_r, train_auc =  eval_metrics(model_final, train_interactions_mat, \n",
    "                                            train_business_features_mat, train_user_features_mat)\n",
    "\n",
    "print('\\nPrecision: train %.3f, test %.3f' % (train_p, test_p))\n",
    "print('Recall: train %.3f, test %.3f' % (train_r, test_r))\n",
    "print('AUC: train %.2f, test %.3f' % (train_auc, test_auc))"
   ]
  },
  {
   "cell_type": "markdown",
   "metadata": {},
   "source": [
    "##### 7.2 FM without Features\n"
   ]
  },
  {
   "cell_type": "code",
   "execution_count": 99,
   "metadata": {},
   "outputs": [
    {
     "name": "stdout",
     "output_type": "stream",
     "text": [
      "\n",
      "Precision: train 0.101, test 0.000\n",
      "Recall: train 0.211, test 0.003\n",
      "AUC: train 0.95, test 0.506\n"
     ]
    }
   ],
   "source": [
    "# test precision\n",
    "wf_test_p, wf_test_r, wf_test_auc = eval_metrics_without_features(model_final_wf, test_interactions_mat_wf)\n",
    "\n",
    "# training precision\n",
    "wf_train_p, wf_train_r, wf_train_auc =  eval_metrics_without_features(model_final_wf, train_interactions_mat_wf)\n",
    "\n",
    "print('\\nPrecision: train %.3f, test %.3f' % (wf_train_p, wf_test_p))\n",
    "print('Recall: train %.3f, test %.3f' % (wf_train_r, wf_test_r))\n",
    "print('AUC: train %.2f, test %.3f' % (wf_train_auc, wf_test_auc))"
   ]
  },
  {
   "cell_type": "markdown",
   "metadata": {},
   "source": [
    "#### 8. Generating Recommendations"
   ]
  },
  {
   "cell_type": "code",
   "execution_count": 111,
   "metadata": {},
   "outputs": [],
   "source": [
    "def get_recommendation_score(model, user_business_df):    \n",
    "    recommendation_score = []\n",
    "    print(\"Number of Pairs for recommendations: \", user_business_df.shape[0])\n",
    "    user_business_df = user_business_df.drop_duplicates()\n",
    "    print(\"Number of unique Pairs for recommendations: \", user_business_df.shape[0], \"\\n\\n\")\n",
    "    user_business_df = user_business_df.reset_index(drop=True)\n",
    "\n",
    "    user_business_df['rating'] = 0\n",
    "\n",
    "    for i, row in user_business_df.iterrows():\n",
    "        if i%1000==0:\n",
    "            print(\"Processed \",i, \" user-business recommendation pair\")  \n",
    "        uid = row['user_id']\n",
    "        bid = row['business_id']\n",
    "        ub_df = user_business_df[i:i+1]\n",
    "\n",
    "        dummy_int_mat, dummy_int_weights, business_features_mat, user_features_mat = get_rating_user_business_mat(ub_df, user_df, business_df)\n",
    "\n",
    "        u_mapped = users_map[uid]\n",
    "        b_mapped = business_map[bid]\n",
    "        predictions = model.predict(u_mapped,\n",
    "                            [b_mapped],\n",
    "                            user_features=user_features_mat,\n",
    "                            item_features=business_features_mat)\n",
    "        recommendation_score.append(predictions[0])\n",
    "    \n",
    "    user_business_df['recommendation_score'] = recommendation_score\n",
    "    return user_business_df"
   ]
  },
  {
   "cell_type": "code",
   "execution_count": 112,
   "metadata": {},
   "outputs": [],
   "source": [
    "def find_top_k(x, k):\n",
    "    aa= x.sort_values(by=['recommendation_score'], ascending = False).head(k)\n",
    "    return list(aa['business_id'])\n",
    "\n",
    "def find_top_k_recommendation(user_business_df, k):\n",
    "    df = user_business_df.groupby('user_id').apply(lambda x: find_top_k(x, k)).reset_index(drop = False)\n",
    "    df.columns = ['user_id', 'recommendations']\n",
    "    return df"
   ]
  },
  {
   "cell_type": "code",
   "execution_count": null,
   "metadata": {
    "collapsed": true
   },
   "outputs": [
    {
     "name": "stdout",
     "output_type": "stream",
     "text": [
      "Number of Pairs for recommendations:  1745448\n",
      "Number of unique Pairs for recommendations:  1745448 \n",
      "\n",
      "\n",
      "Processed  0  user-business recommendation pair\n",
      "Processed  1000  user-business recommendation pair\n",
      "Processed  2000  user-business recommendation pair\n",
      "Processed  3000  user-business recommendation pair\n",
      "Processed  4000  user-business recommendation pair\n",
      "Processed  5000  user-business recommendation pair\n",
      "Processed  6000  user-business recommendation pair\n",
      "Processed  7000  user-business recommendation pair\n",
      "Processed  8000  user-business recommendation pair\n",
      "Processed  9000  user-business recommendation pair\n",
      "Processed  10000  user-business recommendation pair\n",
      "Processed  11000  user-business recommendation pair\n",
      "Processed  12000  user-business recommendation pair\n",
      "Processed  13000  user-business recommendation pair\n",
      "Processed  14000  user-business recommendation pair\n",
      "Processed  15000  user-business recommendation pair\n",
      "Processed  16000  user-business recommendation pair\n",
      "Processed  17000  user-business recommendation pair\n",
      "Processed  18000  user-business recommendation pair\n",
      "Processed  19000  user-business recommendation pair\n",
      "Processed  20000  user-business recommendation pair\n",
      "Processed  21000  user-business recommendation pair\n",
      "Processed  22000  user-business recommendation pair\n",
      "Processed  23000  user-business recommendation pair\n",
      "Processed  24000  user-business recommendation pair\n",
      "Processed  25000  user-business recommendation pair\n",
      "Processed  26000  user-business recommendation pair\n",
      "Processed  27000  user-business recommendation pair\n",
      "Processed  28000  user-business recommendation pair\n",
      "Processed  29000  user-business recommendation pair\n",
      "Processed  30000  user-business recommendation pair\n",
      "Processed  31000  user-business recommendation pair\n",
      "Processed  32000  user-business recommendation pair\n",
      "Processed  33000  user-business recommendation pair\n",
      "Processed  34000  user-business recommendation pair\n",
      "Processed  35000  user-business recommendation pair\n",
      "Processed  36000  user-business recommendation pair\n",
      "Processed  37000  user-business recommendation pair\n",
      "Processed  38000  user-business recommendation pair\n",
      "Processed  39000  user-business recommendation pair\n",
      "Processed  40000  user-business recommendation pair\n",
      "Processed  41000  user-business recommendation pair\n",
      "Processed  42000  user-business recommendation pair\n",
      "Processed  43000  user-business recommendation pair\n",
      "Processed  44000  user-business recommendation pair\n",
      "Processed  45000  user-business recommendation pair\n",
      "Processed  46000  user-business recommendation pair\n",
      "Processed  47000  user-business recommendation pair\n",
      "Processed  48000  user-business recommendation pair\n",
      "Processed  49000  user-business recommendation pair\n",
      "Processed  50000  user-business recommendation pair\n",
      "Processed  51000  user-business recommendation pair\n",
      "Processed  52000  user-business recommendation pair\n",
      "Processed  53000  user-business recommendation pair\n",
      "Processed  54000  user-business recommendation pair\n",
      "Processed  55000  user-business recommendation pair\n",
      "Processed  56000  user-business recommendation pair\n",
      "Processed  57000  user-business recommendation pair\n",
      "Processed  58000  user-business recommendation pair\n",
      "Processed  59000  user-business recommendation pair\n",
      "Processed  60000  user-business recommendation pair\n",
      "Processed  61000  user-business recommendation pair\n",
      "Processed  62000  user-business recommendation pair\n",
      "Processed  63000  user-business recommendation pair\n",
      "Processed  64000  user-business recommendation pair\n",
      "Processed  65000  user-business recommendation pair\n",
      "Processed  66000  user-business recommendation pair\n",
      "Processed  67000  user-business recommendation pair\n",
      "Processed  68000  user-business recommendation pair\n",
      "Processed  69000  user-business recommendation pair\n",
      "Processed  70000  user-business recommendation pair\n",
      "Processed  71000  user-business recommendation pair\n",
      "Processed  72000  user-business recommendation pair\n",
      "Processed  73000  user-business recommendation pair\n",
      "Processed  74000  user-business recommendation pair\n",
      "Processed  75000  user-business recommendation pair\n",
      "Processed  76000  user-business recommendation pair\n",
      "Processed  77000  user-business recommendation pair\n",
      "Processed  78000  user-business recommendation pair\n",
      "Processed  79000  user-business recommendation pair\n",
      "Processed  80000  user-business recommendation pair\n",
      "Processed  81000  user-business recommendation pair\n",
      "Processed  82000  user-business recommendation pair\n",
      "Processed  83000  user-business recommendation pair\n",
      "Processed  84000  user-business recommendation pair\n",
      "Processed  85000  user-business recommendation pair\n",
      "Processed  86000  user-business recommendation pair\n",
      "Processed  87000  user-business recommendation pair\n",
      "Processed  88000  user-business recommendation pair\n",
      "Processed  89000  user-business recommendation pair\n",
      "Processed  90000  user-business recommendation pair\n",
      "Processed  91000  user-business recommendation pair\n",
      "Processed  92000  user-business recommendation pair\n",
      "Processed  93000  user-business recommendation pair\n",
      "Processed  94000  user-business recommendation pair\n",
      "Processed  95000  user-business recommendation pair\n",
      "Processed  96000  user-business recommendation pair\n",
      "Processed  97000  user-business recommendation pair\n",
      "Processed  98000  user-business recommendation pair\n",
      "Processed  99000  user-business recommendation pair\n",
      "Processed  100000  user-business recommendation pair\n",
      "Processed  101000  user-business recommendation pair\n",
      "Processed  102000  user-business recommendation pair\n",
      "Processed  103000  user-business recommendation pair\n",
      "Processed  104000  user-business recommendation pair\n",
      "Processed  105000  user-business recommendation pair\n",
      "Processed  106000  user-business recommendation pair\n",
      "Processed  107000  user-business recommendation pair\n",
      "Processed  108000  user-business recommendation pair\n",
      "Processed  109000  user-business recommendation pair\n",
      "Processed  110000  user-business recommendation pair\n",
      "Processed  111000  user-business recommendation pair\n",
      "Processed  112000  user-business recommendation pair\n",
      "Processed  113000  user-business recommendation pair\n",
      "Processed  114000  user-business recommendation pair\n",
      "Processed  115000  user-business recommendation pair\n",
      "Processed  116000  user-business recommendation pair\n",
      "Processed  117000  user-business recommendation pair\n",
      "Processed  118000  user-business recommendation pair\n",
      "Processed  119000  user-business recommendation pair\n",
      "Processed  120000  user-business recommendation pair\n",
      "Processed  121000  user-business recommendation pair\n",
      "Processed  122000  user-business recommendation pair\n",
      "Processed  123000  user-business recommendation pair\n",
      "Processed  124000  user-business recommendation pair\n",
      "Processed  125000  user-business recommendation pair\n",
      "Processed  126000  user-business recommendation pair\n",
      "Processed  127000  user-business recommendation pair\n",
      "Processed  128000  user-business recommendation pair\n",
      "Processed  129000  user-business recommendation pair\n",
      "Processed  130000  user-business recommendation pair\n",
      "Processed  131000  user-business recommendation pair\n",
      "Processed  132000  user-business recommendation pair\n",
      "Processed  133000  user-business recommendation pair\n",
      "Processed  134000  user-business recommendation pair\n",
      "Processed  135000  user-business recommendation pair\n",
      "Processed  136000  user-business recommendation pair\n",
      "Processed  137000  user-business recommendation pair\n",
      "Processed  138000  user-business recommendation pair\n",
      "Processed  139000  user-business recommendation pair\n",
      "Processed  140000  user-business recommendation pair\n",
      "Processed  141000  user-business recommendation pair\n",
      "Processed  142000  user-business recommendation pair\n",
      "Processed  143000  user-business recommendation pair\n",
      "Processed  144000  user-business recommendation pair\n",
      "Processed  145000  user-business recommendation pair\n",
      "Processed  146000  user-business recommendation pair\n",
      "Processed  147000  user-business recommendation pair\n",
      "Processed  148000  user-business recommendation pair\n",
      "Processed  149000  user-business recommendation pair\n",
      "Processed  150000  user-business recommendation pair\n",
      "Processed  151000  user-business recommendation pair\n",
      "Processed  152000  user-business recommendation pair\n",
      "Processed  153000  user-business recommendation pair\n",
      "Processed  154000  user-business recommendation pair\n"
     ]
    },
    {
     "name": "stdout",
     "output_type": "stream",
     "text": [
      "Processed  155000  user-business recommendation pair\n",
      "Processed  156000  user-business recommendation pair\n",
      "Processed  157000  user-business recommendation pair\n",
      "Processed  158000  user-business recommendation pair\n",
      "Processed  159000  user-business recommendation pair\n",
      "Processed  160000  user-business recommendation pair\n",
      "Processed  161000  user-business recommendation pair\n",
      "Processed  162000  user-business recommendation pair\n",
      "Processed  163000  user-business recommendation pair\n",
      "Processed  164000  user-business recommendation pair\n",
      "Processed  165000  user-business recommendation pair\n",
      "Processed  166000  user-business recommendation pair\n",
      "Processed  167000  user-business recommendation pair\n",
      "Processed  168000  user-business recommendation pair\n",
      "Processed  169000  user-business recommendation pair\n",
      "Processed  170000  user-business recommendation pair\n",
      "Processed  171000  user-business recommendation pair\n",
      "Processed  172000  user-business recommendation pair\n",
      "Processed  173000  user-business recommendation pair\n",
      "Processed  174000  user-business recommendation pair\n",
      "Processed  175000  user-business recommendation pair\n",
      "Processed  176000  user-business recommendation pair\n",
      "Processed  177000  user-business recommendation pair\n",
      "Processed  178000  user-business recommendation pair\n",
      "Processed  179000  user-business recommendation pair\n",
      "Processed  180000  user-business recommendation pair\n",
      "Processed  181000  user-business recommendation pair\n",
      "Processed  182000  user-business recommendation pair\n",
      "Processed  183000  user-business recommendation pair\n",
      "Processed  184000  user-business recommendation pair\n",
      "Processed  185000  user-business recommendation pair\n",
      "Processed  186000  user-business recommendation pair\n",
      "Processed  187000  user-business recommendation pair\n",
      "Processed  188000  user-business recommendation pair\n",
      "Processed  189000  user-business recommendation pair\n",
      "Processed  190000  user-business recommendation pair\n",
      "Processed  191000  user-business recommendation pair\n",
      "Processed  192000  user-business recommendation pair\n",
      "Processed  193000  user-business recommendation pair\n",
      "Processed  194000  user-business recommendation pair\n",
      "Processed  195000  user-business recommendation pair\n",
      "Processed  196000  user-business recommendation pair\n",
      "Processed  197000  user-business recommendation pair\n",
      "Processed  198000  user-business recommendation pair\n",
      "Processed  199000  user-business recommendation pair\n",
      "Processed  200000  user-business recommendation pair\n",
      "Processed  201000  user-business recommendation pair\n",
      "Processed  202000  user-business recommendation pair\n",
      "Processed  203000  user-business recommendation pair\n",
      "Processed  204000  user-business recommendation pair\n",
      "Processed  205000  user-business recommendation pair\n",
      "Processed  206000  user-business recommendation pair\n",
      "Processed  207000  user-business recommendation pair\n",
      "Processed  208000  user-business recommendation pair\n",
      "Processed  209000  user-business recommendation pair\n",
      "Processed  210000  user-business recommendation pair\n",
      "Processed  211000  user-business recommendation pair\n",
      "Processed  212000  user-business recommendation pair\n",
      "Processed  213000  user-business recommendation pair\n",
      "Processed  214000  user-business recommendation pair\n",
      "Processed  215000  user-business recommendation pair\n",
      "Processed  216000  user-business recommendation pair\n",
      "Processed  217000  user-business recommendation pair\n",
      "Processed  218000  user-business recommendation pair\n",
      "Processed  219000  user-business recommendation pair\n",
      "Processed  220000  user-business recommendation pair\n",
      "Processed  221000  user-business recommendation pair\n",
      "Processed  222000  user-business recommendation pair\n",
      "Processed  223000  user-business recommendation pair\n",
      "Processed  224000  user-business recommendation pair\n",
      "Processed  225000  user-business recommendation pair\n",
      "Processed  226000  user-business recommendation pair\n",
      "Processed  227000  user-business recommendation pair\n",
      "Processed  228000  user-business recommendation pair\n",
      "Processed  229000  user-business recommendation pair\n",
      "Processed  230000  user-business recommendation pair\n",
      "Processed  231000  user-business recommendation pair\n",
      "Processed  232000  user-business recommendation pair\n",
      "Processed  233000  user-business recommendation pair\n",
      "Processed  234000  user-business recommendation pair\n",
      "Processed  235000  user-business recommendation pair\n",
      "Processed  236000  user-business recommendation pair\n",
      "Processed  237000  user-business recommendation pair\n",
      "Processed  238000  user-business recommendation pair\n",
      "Processed  239000  user-business recommendation pair\n",
      "Processed  240000  user-business recommendation pair\n",
      "Processed  241000  user-business recommendation pair\n",
      "Processed  242000  user-business recommendation pair\n",
      "Processed  243000  user-business recommendation pair\n",
      "Processed  244000  user-business recommendation pair\n",
      "Processed  245000  user-business recommendation pair\n",
      "Processed  246000  user-business recommendation pair\n",
      "Processed  247000  user-business recommendation pair\n",
      "Processed  248000  user-business recommendation pair\n",
      "Processed  249000  user-business recommendation pair\n",
      "Processed  250000  user-business recommendation pair\n",
      "Processed  251000  user-business recommendation pair\n",
      "Processed  252000  user-business recommendation pair\n",
      "Processed  253000  user-business recommendation pair\n",
      "Processed  254000  user-business recommendation pair\n",
      "Processed  255000  user-business recommendation pair\n",
      "Processed  256000  user-business recommendation pair\n",
      "Processed  257000  user-business recommendation pair\n",
      "Processed  258000  user-business recommendation pair\n",
      "Processed  259000  user-business recommendation pair\n",
      "Processed  260000  user-business recommendation pair\n",
      "Processed  261000  user-business recommendation pair\n",
      "Processed  262000  user-business recommendation pair\n",
      "Processed  263000  user-business recommendation pair\n",
      "Processed  264000  user-business recommendation pair\n",
      "Processed  265000  user-business recommendation pair\n",
      "Processed  266000  user-business recommendation pair\n",
      "Processed  267000  user-business recommendation pair\n",
      "Processed  268000  user-business recommendation pair\n",
      "Processed  269000  user-business recommendation pair\n",
      "Processed  270000  user-business recommendation pair\n",
      "Processed  271000  user-business recommendation pair\n",
      "Processed  272000  user-business recommendation pair\n",
      "Processed  273000  user-business recommendation pair\n",
      "Processed  274000  user-business recommendation pair\n",
      "Processed  275000  user-business recommendation pair\n",
      "Processed  276000  user-business recommendation pair\n",
      "Processed  277000  user-business recommendation pair\n",
      "Processed  278000  user-business recommendation pair\n",
      "Processed  279000  user-business recommendation pair\n",
      "Processed  280000  user-business recommendation pair\n",
      "Processed  281000  user-business recommendation pair\n",
      "Processed  282000  user-business recommendation pair\n",
      "Processed  283000  user-business recommendation pair\n",
      "Processed  284000  user-business recommendation pair\n",
      "Processed  285000  user-business recommendation pair\n",
      "Processed  286000  user-business recommendation pair\n",
      "Processed  287000  user-business recommendation pair\n",
      "Processed  288000  user-business recommendation pair\n",
      "Processed  289000  user-business recommendation pair\n",
      "Processed  290000  user-business recommendation pair\n",
      "Processed  291000  user-business recommendation pair\n",
      "Processed  292000  user-business recommendation pair\n",
      "Processed  293000  user-business recommendation pair\n",
      "Processed  294000  user-business recommendation pair\n",
      "Processed  295000  user-business recommendation pair\n",
      "Processed  296000  user-business recommendation pair\n",
      "Processed  297000  user-business recommendation pair\n",
      "Processed  298000  user-business recommendation pair\n",
      "Processed  299000  user-business recommendation pair\n",
      "Processed  300000  user-business recommendation pair\n",
      "Processed  301000  user-business recommendation pair\n",
      "Processed  302000  user-business recommendation pair\n",
      "Processed  303000  user-business recommendation pair\n",
      "Processed  304000  user-business recommendation pair\n",
      "Processed  305000  user-business recommendation pair\n",
      "Processed  306000  user-business recommendation pair\n",
      "Processed  307000  user-business recommendation pair\n",
      "Processed  308000  user-business recommendation pair\n",
      "Processed  309000  user-business recommendation pair\n"
     ]
    },
    {
     "name": "stdout",
     "output_type": "stream",
     "text": [
      "Processed  310000  user-business recommendation pair\n",
      "Processed  311000  user-business recommendation pair\n",
      "Processed  312000  user-business recommendation pair\n",
      "Processed  313000  user-business recommendation pair\n",
      "Processed  314000  user-business recommendation pair\n",
      "Processed  315000  user-business recommendation pair\n",
      "Processed  316000  user-business recommendation pair\n",
      "Processed  317000  user-business recommendation pair\n",
      "Processed  318000  user-business recommendation pair\n",
      "Processed  319000  user-business recommendation pair\n",
      "Processed  320000  user-business recommendation pair\n",
      "Processed  321000  user-business recommendation pair\n",
      "Processed  322000  user-business recommendation pair\n",
      "Processed  323000  user-business recommendation pair\n",
      "Processed  324000  user-business recommendation pair\n",
      "Processed  325000  user-business recommendation pair\n",
      "Processed  326000  user-business recommendation pair\n",
      "Processed  327000  user-business recommendation pair\n",
      "Processed  328000  user-business recommendation pair\n",
      "Processed  329000  user-business recommendation pair\n",
      "Processed  330000  user-business recommendation pair\n",
      "Processed  331000  user-business recommendation pair\n",
      "Processed  332000  user-business recommendation pair\n",
      "Processed  333000  user-business recommendation pair\n",
      "Processed  334000  user-business recommendation pair\n"
     ]
    }
   ],
   "source": [
    "k = 10\n",
    "user_business_df = recommendation_df\n",
    "df_re_score = get_recommendation_score(model_final, user_business_df)\n",
    "\n",
    "top_k_recommendations_df = find_top_k_recommendation(df_re_score, k)\n",
    "top_k_recommendations_df.to_csv(\"top_k_recommendations.csv\", index = False)"
   ]
  },
  {
   "cell_type": "code",
   "execution_count": 209,
   "metadata": {},
   "outputs": [
    {
     "data": {
      "text/html": [
       "<div>\n",
       "<style scoped>\n",
       "    .dataframe tbody tr th:only-of-type {\n",
       "        vertical-align: middle;\n",
       "    }\n",
       "\n",
       "    .dataframe tbody tr th {\n",
       "        vertical-align: top;\n",
       "    }\n",
       "\n",
       "    .dataframe thead th {\n",
       "        text-align: right;\n",
       "    }\n",
       "</style>\n",
       "<table border=\"1\" class=\"dataframe\">\n",
       "  <thead>\n",
       "    <tr style=\"text-align: right;\">\n",
       "      <th></th>\n",
       "      <th>user_id</th>\n",
       "      <th>recommendations</th>\n",
       "    </tr>\n",
       "  </thead>\n",
       "  <tbody>\n",
       "    <tr>\n",
       "      <td>0</td>\n",
       "      <td>33d2OBr5yMWMMW_ibYbqIA</td>\n",
       "      <td>[QnTuluWsuNb3aYCl-J9HVQ]</td>\n",
       "    </tr>\n",
       "    <tr>\n",
       "      <td>1</td>\n",
       "      <td>SORwHZxyWwR8iv_ZrMICEg</td>\n",
       "      <td>[FUhJLCocwgZEiVn1Wg1KSg]</td>\n",
       "    </tr>\n",
       "    <tr>\n",
       "      <td>2</td>\n",
       "      <td>ZL_zmesRw89J8PrsdJg6Uw</td>\n",
       "      <td>[0OdZXIKQypu6vplpxFilsA]</td>\n",
       "    </tr>\n",
       "    <tr>\n",
       "      <td>3</td>\n",
       "      <td>iboD-HEmzhLnqAbLYN-Qhw</td>\n",
       "      <td>[FMo1PJTUV5OpyiZlnTM1Rg]</td>\n",
       "    </tr>\n",
       "    <tr>\n",
       "      <td>4</td>\n",
       "      <td>n45NIRpIDhu3iurWXzAVjg</td>\n",
       "      <td>[99kGGQoig4YaRi-52VtqMA]</td>\n",
       "    </tr>\n",
       "  </tbody>\n",
       "</table>\n",
       "</div>"
      ],
      "text/plain": [
       "                  user_id           recommendations\n",
       "0  33d2OBr5yMWMMW_ibYbqIA  [QnTuluWsuNb3aYCl-J9HVQ]\n",
       "1  SORwHZxyWwR8iv_ZrMICEg  [FUhJLCocwgZEiVn1Wg1KSg]\n",
       "2  ZL_zmesRw89J8PrsdJg6Uw  [0OdZXIKQypu6vplpxFilsA]\n",
       "3  iboD-HEmzhLnqAbLYN-Qhw  [FMo1PJTUV5OpyiZlnTM1Rg]\n",
       "4  n45NIRpIDhu3iurWXzAVjg  [99kGGQoig4YaRi-52VtqMA]"
      ]
     },
     "execution_count": 209,
     "metadata": {},
     "output_type": "execute_result"
    }
   ],
   "source": [
    "top_k_recommendations_df"
   ]
  }
 ],
 "metadata": {
  "kernelspec": {
   "display_name": "Python 3",
   "language": "python",
   "name": "python3"
  },
  "language_info": {
   "codemirror_mode": {
    "name": "ipython",
    "version": 3
   },
   "file_extension": ".py",
   "mimetype": "text/x-python",
   "name": "python",
   "nbconvert_exporter": "python",
   "pygments_lexer": "ipython3",
   "version": "3.7.3"
  },
  "varInspector": {
   "cols": {
    "lenName": 16,
    "lenType": 16,
    "lenVar": 40
   },
   "kernels_config": {
    "python": {
     "delete_cmd_postfix": "",
     "delete_cmd_prefix": "del ",
     "library": "var_list.py",
     "varRefreshCmd": "print(var_dic_list())"
    },
    "r": {
     "delete_cmd_postfix": ") ",
     "delete_cmd_prefix": "rm(",
     "library": "var_list.r",
     "varRefreshCmd": "cat(var_dic_list()) "
    }
   },
   "types_to_exclude": [
    "module",
    "function",
    "builtin_function_or_method",
    "instance",
    "_Feature"
   ],
   "window_display": false
  }
 },
 "nbformat": 4,
 "nbformat_minor": 2
}
