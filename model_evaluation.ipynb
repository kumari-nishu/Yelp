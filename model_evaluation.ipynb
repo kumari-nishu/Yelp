{
 "cells": [
  {
   "cell_type": "code",
   "execution_count": 36,
   "metadata": {},
   "outputs": [],
   "source": [
    "import json\n",
    "import pickle\n",
    "import numpy as np\n",
    "import pandas as pd\n",
    "from tqdm import tqdm\n",
    "\n",
    "import import_ipynb\n",
    "import feature_engineering\n",
    "\n",
    "import surprise\n",
    "from surprise import dataset\n",
    "from surprise import BaselineOnly\n",
    "\n",
    "from sklearn.preprocessing import LabelBinarizer\n",
    "from sklearn.metrics import precision_score, recall_score, roc_auc_score"
   ]
  },
  {
   "cell_type": "code",
   "execution_count": 7,
   "metadata": {},
   "outputs": [],
   "source": [
    "# fetch data objects using defined functions\n",
    "\n",
    "# ratings, business, checkin, user, tips = feature_engineering.get_yelp_data()\n",
    "# user = feature_engineering.add_user_features(user, ratings, tips)\n",
    "# business = feature_engineering.add_item_features(business, checkin)\n",
    "# ratings = feature_engineering.add_features_to_ratings(ratings, user, business)\n",
    "# ratings_train, ratings_validation, ratings_test = feature_engineering.train_validation_test_split(years = 1)\n",
    "# ratings_recommend = feature_engineering.user_recommendation_options(ratings_train)"
   ]
  },
  {
   "cell_type": "code",
   "execution_count": 40,
   "metadata": {},
   "outputs": [],
   "source": [
    "# fetch data objects from saved pickle files\n",
    "\n",
    "ratings_train = pickle.load(open(\"data/ratings_train_1_years.pkl\", \"rb\"))\n",
    "ratings_validation = pickle.load(open(\"data/ratings_validation_1_years.pkl\", \"rb\"))\n",
    "ratings_test = pickle.load(open(\"data/ratings_test_1_years.pkl\", \"rb\"))\n",
    "ratings_recommend = pickle.load(open(\"data/ratings_recommendation_list.pkl\", \"rb\"))"
   ]
  },
  {
   "cell_type": "code",
   "execution_count": 41,
   "metadata": {},
   "outputs": [],
   "source": [
    "def baseline_model_train(ratings_train):\n",
    "    bsl_options = {'method': 'als', 'n_epochs': 20}\n",
    "    model = surprise.BaselineOnly(bsl_options = bsl_options)\n",
    "\n",
    "    reader = surprise.Reader(rating_scale = (1,5))\n",
    "    ratings = surprise.Dataset.load_from_df(ratings_train[['user_id', 'business_id', 'rating']], reader)\n",
    "    ratings_train = ratings.build_full_trainset()\n",
    "\n",
    "    model.fit(ratings_train)\n",
    "    return model"
   ]
  },
  {
   "cell_type": "code",
   "execution_count": 50,
   "metadata": {},
   "outputs": [],
   "source": [
    "def baseline_model_predict(model, ratings_test):\n",
    "    predictions = pd.DataFrame(columns = ['user_id', 'business_id', 'pred_rating'])\n",
    "    for i in range(len(ratings_test)):\n",
    "        pred = model.predict(ratings_test.user_id[i], ratings_test.business_id[i])\n",
    "        predictions.loc[i, 'user_id'] = pred.uid\n",
    "        predictions.loc[i, 'business_id'] = pred.iid\n",
    "        predictions.loc[i, 'pred_rating'] = pred.est\n",
    "        \n",
    "    return predictions"
   ]
  },
  {
   "cell_type": "code",
   "execution_count": 44,
   "metadata": {},
   "outputs": [],
   "source": [
    "def multiclass_roc_auc_score(y_test, y_pred, average = \"macro\"):\n",
    "    lb = LabelBinarizer()\n",
    "    lb.fit(y_test)\n",
    "    \n",
    "    y_test = lb.transform(y_test)\n",
    "    y_pred = lb.transform(y_pred)\n",
    "\n",
    "    return roc_auc_score(y_test, y_pred, average = average)"
   ]
  },
  {
   "cell_type": "code",
   "execution_count": 83,
   "metadata": {},
   "outputs": [],
   "source": [
    "def basline_model_eval(predictions, ratings_test):\n",
    "    predictions.pred_rating = predictions.pred_rating.apply(np.round).astype(np.double)    \n",
    "    recall = recall_score(ratings_test['rating'], predictions.pred_rating, average = 'macro')\n",
    "    precision = precision_score(ratings_test['rating'], predictions.pred_rating, average = 'macro')\n",
    "    auc = multiclass_roc_auc_score(ratings_test['rating'], predictions.pred_rating, average = 'macro')\n",
    "    \n",
    "    return recall, precision, auc"
   ]
  },
  {
   "cell_type": "code",
   "execution_count": 84,
   "metadata": {},
   "outputs": [
    {
     "name": "stdout",
     "output_type": "stream",
     "text": [
      "Estimating biases using als...\n"
     ]
    }
   ],
   "source": [
    "model = baseline_model_train(ratings_train)"
   ]
  },
  {
   "cell_type": "code",
   "execution_count": 85,
   "metadata": {
    "scrolled": true
   },
   "outputs": [],
   "source": [
    "predictions = baseline_model_predict(model, ratings_test)"
   ]
  },
  {
   "cell_type": "code",
   "execution_count": 92,
   "metadata": {
    "scrolled": true
   },
   "outputs": [
    {
     "name": "stderr",
     "output_type": "stream",
     "text": [
      "/Users/mohit/anaconda3/lib/python3.7/site-packages/sklearn/metrics/classification.py:1437: UndefinedMetricWarning: Precision is ill-defined and being set to 0.0 in labels with no predicted samples.\n",
      "  'precision', 'predicted', average, warn_for)\n"
     ]
    }
   ],
   "source": [
    "test_recall, test_precision, test_auc = basline_model_eval(predictions, ratings_test)"
   ]
  },
  {
   "cell_type": "code",
   "execution_count": 89,
   "metadata": {},
   "outputs": [
    {
     "data": {
      "text/plain": [
       "0.510582970731233"
      ]
     },
     "execution_count": 89,
     "metadata": {},
     "output_type": "execute_result"
    }
   ],
   "source": [
    "test_auc"
   ]
  },
  {
   "cell_type": "code",
   "execution_count": null,
   "metadata": {},
   "outputs": [],
   "source": []
  },
  {
   "cell_type": "code",
   "execution_count": null,
   "metadata": {},
   "outputs": [],
   "source": []
  },
  {
   "cell_type": "code",
   "execution_count": null,
   "metadata": {},
   "outputs": [],
   "source": [
    "def model_coverage(ratings_train, ratings_recommend):\n",
    "    items_train = len(ratings_train.business_id.unique())\n",
    "    items_recommended = len(ratings_recommend.business_id.unique())\n",
    "    \n",
    "    item_coverage = np.round(items_recommend / items_train, 4)\n",
    "    \n",
    "    return item_coverage"
   ]
  }
 ],
 "metadata": {
  "kernelspec": {
   "display_name": "Python 3",
   "language": "python",
   "name": "python3"
  },
  "language_info": {
   "codemirror_mode": {
    "name": "ipython",
    "version": 3
   },
   "file_extension": ".py",
   "mimetype": "text/x-python",
   "name": "python",
   "nbconvert_exporter": "python",
   "pygments_lexer": "ipython3",
   "version": "3.7.3"
  },
  "varInspector": {
   "cols": {
    "lenName": 16,
    "lenType": 16,
    "lenVar": 40
   },
   "kernels_config": {
    "python": {
     "delete_cmd_postfix": "",
     "delete_cmd_prefix": "del ",
     "library": "var_list.py",
     "varRefreshCmd": "print(var_dic_list())"
    },
    "r": {
     "delete_cmd_postfix": ") ",
     "delete_cmd_prefix": "rm(",
     "library": "var_list.r",
     "varRefreshCmd": "cat(var_dic_list()) "
    }
   },
   "position": {
    "height": "256.219px",
    "left": "976.219px",
    "right": "20px",
    "top": "120px",
    "width": "440.766px"
   },
   "types_to_exclude": [
    "module",
    "function",
    "builtin_function_or_method",
    "instance",
    "_Feature"
   ],
   "window_display": true
  }
 },
 "nbformat": 4,
 "nbformat_minor": 2
}
