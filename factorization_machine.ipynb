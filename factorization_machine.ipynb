{
 "cells": [
  {
   "cell_type": "code",
   "execution_count": 1,
   "metadata": {},
   "outputs": [
    {
     "name": "stdout",
     "output_type": "stream",
     "text": [
      "importing Jupyter notebook from data_acquisition.ipynb\n"
     ]
    },
    {
     "ename": "ModuleNotFoundError",
     "evalue": "No module named 'feature'",
     "output_type": "error",
     "traceback": [
      "\u001b[0;31m---------------------------------------------------------------------------\u001b[0m",
      "\u001b[0;31mModuleNotFoundError\u001b[0m                       Traceback (most recent call last)",
      "\u001b[0;32m<ipython-input-1-d18228a45cf7>\u001b[0m in \u001b[0;36m<module>\u001b[0;34m\u001b[0m\n\u001b[1;32m      4\u001b[0m \u001b[0;34m\u001b[0m\u001b[0m\n\u001b[1;32m      5\u001b[0m \u001b[0;32mimport\u001b[0m \u001b[0mimport_ipynb\u001b[0m\u001b[0;34m\u001b[0m\u001b[0;34m\u001b[0m\u001b[0m\n\u001b[0;32m----> 6\u001b[0;31m \u001b[0;32mimport\u001b[0m \u001b[0mdata_acquisition\u001b[0m\u001b[0;34m,\u001b[0m \u001b[0mfeature\u001b[0m\u001b[0;34m\u001b[0m\u001b[0;34m\u001b[0m\u001b[0m\n\u001b[0m\u001b[1;32m      7\u001b[0m \u001b[0;34m\u001b[0m\u001b[0m\n\u001b[1;32m      8\u001b[0m \u001b[0;32mfrom\u001b[0m \u001b[0mlightfm\u001b[0m\u001b[0;34m.\u001b[0m\u001b[0mdata\u001b[0m \u001b[0;32mimport\u001b[0m \u001b[0mDataset\u001b[0m\u001b[0;34m\u001b[0m\u001b[0;34m\u001b[0m\u001b[0m\n",
      "\u001b[0;31mModuleNotFoundError\u001b[0m: No module named 'feature'"
     ]
    }
   ],
   "source": [
    "import json\n",
    "import pandas as pd\n",
    "from tqdm import tqdm\n",
    "\n",
    "import import_ipynb\n",
    "import data_acquisition, feature_engineering\n",
    "\n",
    "from lightfm.data import Dataset\n",
    "from lightfm import LightFM"
   ]
  },
  {
   "cell_type": "code",
   "execution_count": null,
   "metadata": {},
   "outputs": [],
   "source": [
    "def convert_df_to_tupleList(key_col, df):\n",
    "    result = []\n",
    "    for i, row for df.iterrows():\n",
    "        key_val = row[key_col]\n",
    "        feature_dict = {}\n",
    "        for col in df.columns.values:\n",
    "            if col!=key_col:\n",
    "                feature_dict[col] = row[col]\n",
    "        result.append((key_val, feature_dict))\n",
    "    return result\n",
    "\n",
    "def convert_ratings_totupleList(df, user_id, business_id, weight_id):\n",
    "    result = []\n",
    "    for i,row in df.iterrows():\n",
    "        row_tuple = (row[user_id], row[business_id], row[weight_id])\n",
    "        result.append(row_tuple)\n",
    "    return result"
   ]
  },
  {
   "cell_type": "code",
   "execution_count": null,
   "metadata": {},
   "outputs": [],
   "source": [
    "def build_model(user_df, business_df, rating_df):\n",
    "    user_id = 'user_id'\n",
    "    business_id = 'business_id'\n",
    "    rating = 'rating'\n",
    "    \n",
    "    # Feature pre-processing\n",
    "    user_features = convert_df_to_tupleList(user_id, user_df)\n",
    "    business_features = convert_df_to_tupleList(business_id, business_df)\n",
    "    interaction_features = convert_ratings_totupltList(df, user_id, business_id, rating)\n",
    "    \n",
    "    # Dataset creation as per LightFM specification\n",
    "    interactions, weights = dataset.build_interactions(interaction_features)\n",
    "    print(\"Interactions features information: \\n\", repr(interactions))\n",
    "    \n",
    "    business_features_lf = dataset.build_item_features(business_features)\n",
    "    print(\"Business features information: \\n\", repr(business_features_lf))\n",
    "    \n",
    "    user_features_lf = dataset.build_user_features(user_features)\n",
    "    print(\"Business features information: \\n\", repr(user_features_lf))\n",
    "    \n",
    "    # build model\n",
    "    model = LightFM(loss='bpr')\n",
    "    model.fit(interactions, \n",
    "              user_features = user_features_lf,\n",
    "              item_features = business_features_lf)\n",
    "\n",
    "    return model"
   ]
  }
 ],
 "metadata": {
  "kernelspec": {
   "display_name": "Python 3",
   "language": "python",
   "name": "python3"
  },
  "language_info": {
   "codemirror_mode": {
    "name": "ipython",
    "version": 3
   },
   "file_extension": ".py",
   "mimetype": "text/x-python",
   "name": "python",
   "nbconvert_exporter": "python",
   "pygments_lexer": "ipython3",
   "version": "3.7.3"
  },
  "varInspector": {
   "cols": {
    "lenName": 16,
    "lenType": 16,
    "lenVar": 40
   },
   "kernels_config": {
    "python": {
     "delete_cmd_postfix": "",
     "delete_cmd_prefix": "del ",
     "library": "var_list.py",
     "varRefreshCmd": "print(var_dic_list())"
    },
    "r": {
     "delete_cmd_postfix": ") ",
     "delete_cmd_prefix": "rm(",
     "library": "var_list.r",
     "varRefreshCmd": "cat(var_dic_list()) "
    }
   },
   "types_to_exclude": [
    "module",
    "function",
    "builtin_function_or_method",
    "instance",
    "_Feature"
   ],
   "window_display": false
  }
 },
 "nbformat": 4,
 "nbformat_minor": 2
}
